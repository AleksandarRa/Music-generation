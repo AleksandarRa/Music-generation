{
 "cells": [
  {
   "cell_type": "code",
   "id": "initial_id",
   "metadata": {
    "collapsed": true
   },
   "source": [
    "import pandas as pd\n",
    "import numpy as np\n",
    "from matplotlib import cm\n",
    "from scipy.interpolate import griddata\n",
    "import seaborn as sns\n",
    "import matplotlib.pyplot as plt\n",
    "import plotly.graph_objs as go\n",
    "import plotly.express as px"
   ],
   "outputs": [],
   "execution_count": null
  },
  {
   "metadata": {},
   "cell_type": "code",
   "source": [
    "# Read the CSV file into a DataFrame\n",
    "df = pd.read_csv('logs/80epochs/analyseParameters80Epochs.csv')\n",
    "df.shape"
   ],
   "id": "7546fb5eadbdf17d",
   "outputs": [],
   "execution_count": null
  },
  {
   "metadata": {},
   "cell_type": "code",
   "source": [
    "def parallel_coordinates(df, y):\n",
    "    # Create a parallel coordinates plot\n",
    "    fig = px.parallel_coordinates(df, dimensions=['seq_len', 'gen_len', 'mem_len', y],\n",
    "                                  color=y, color_continuous_scale=px.colors.sequential.Viridis)\n",
    "    fig.show()\n",
    "    \n",
    "def moving_plot(df, y):\n",
    "    # Create 3D scatter plot\n",
    "    fig = go.Figure(data=[go.Scatter3d(\n",
    "        x=df['seq_len'],\n",
    "        y=df['gen_len'],\n",
    "        z=df['mem_len'],\n",
    "        mode='markers',\n",
    "        marker=dict(\n",
    "            size=5,\n",
    "            color=df[y],  # Color by `acc_sound`\n",
    "            colorscale='Viridis',\n",
    "            colorbar=dict(title=y)\n",
    "        )\n",
    "    )])\n",
    "    fig.update_layout(scene=dict(\n",
    "        xaxis_title='seq_len',\n",
    "        yaxis_title='gen_len',\n",
    "        zaxis_title='mem_len'),\n",
    "        title='3D Scatter Plot of ' + y)\n",
    "    fig.show()\n",
    "\n",
    "def color_plot(df, y):\n",
    "    fig, axes = plt.subplots(1, 3, figsize=(18, 5))\n",
    "\n",
    "    # Heatmap for seq_len vs. gen_len, aggregated over mem_len\n",
    "    pivot_seq_gen = df.groupby(['seq_len', 'gen_len'])[y].mean().unstack()\n",
    "    sns.heatmap(pivot_seq_gen, ax=axes[0], cmap=\"viridis\")\n",
    "    axes[0].set_title(y + ' by seq_len and gen_len')\n",
    "    axes[0].set_xlabel('gen_len')\n",
    "    axes[0].set_ylabel('seq_len')\n",
    "    axes[0].invert_yaxis()  # Start y-axis from lowest to highest\n",
    "\n",
    "    # Heatmap for seq_len vs. mem_len, aggregated over gen_len\n",
    "    pivot_seq_mem = df.groupby(['seq_len', 'mem_len'])[y].mean().unstack()\n",
    "    sns.heatmap(pivot_seq_mem, ax=axes[1], cmap=\"viridis\")\n",
    "    axes[1].set_title(y + ' by seq_len and mem_len')\n",
    "    axes[1].set_xlabel('mem_len')\n",
    "    axes[1].set_ylabel('seq_len')\n",
    "    axes[1].invert_yaxis()  # Start y-axis from lowest to highest\n",
    "\n",
    "    # Heatmap for gen_len vs. mem_len, aggregated over seq_len\n",
    "    pivot_gen_mem = df.groupby(['gen_len', 'mem_len'])[y].mean().unstack()\n",
    "    sns.heatmap(pivot_gen_mem, ax=axes[2], cmap=\"viridis\")\n",
    "    axes[2].set_title(y + ' by gen_len and mem_len')\n",
    "    axes[2].set_xlabel('mem_len')\n",
    "    axes[2].set_ylabel('gen_len')\n",
    "    axes[2].invert_yaxis()  # Start y-axis from lowest to highest\n",
    "\n",
    "    plt.tight_layout()\n",
    "    plt.show()"
   ],
   "id": "ff051a766936d14c",
   "outputs": [],
   "execution_count": null
  },
  {
   "metadata": {},
   "cell_type": "markdown",
   "source": "# First approach",
   "id": "c646475339b85b2f"
  },
  {
   "metadata": {},
   "cell_type": "markdown",
   "source": "## 0.npz",
   "id": "acaa6d01e5599a95"
  },
  {
   "metadata": {},
   "cell_type": "code",
   "source": [
    "_df = df[df['filename'] == '0.npz']\n",
    "parallel_coordinates(_df, 'acc_sound')\n",
    "parallel_coordinates(_df, 'acc_delta')\n",
    "moving_plot(_df, 'acc_sound')\n",
    "moving_plot(_df, 'acc_delta')\n",
    "color_plot(_df, 'acc_sound')\n",
    "color_plot(_df, 'acc_delta')"
   ],
   "id": "88348b4277bd15f4",
   "outputs": [],
   "execution_count": null
  },
  {
   "metadata": {},
   "cell_type": "markdown",
   "source": "## 1280.npz",
   "id": "75971aea1b12bd70"
  },
  {
   "metadata": {},
   "cell_type": "code",
   "source": [
    "_df = df[df['filename'] == '1280.npz']\n",
    "parallel_coordinates(_df, 'acc_sound')\n",
    "parallel_coordinates(_df, 'acc_delta')\n",
    "moving_plot(_df, 'acc_sound')\n",
    "moving_plot(_df, 'acc_delta')\n",
    "color_plot(_df, 'acc_sound')\n",
    "color_plot(_df, 'acc_delta')\n"
   ],
   "id": "d11fb1f6d3bc32bd",
   "outputs": [],
   "execution_count": null
  },
  {
   "metadata": {},
   "cell_type": "markdown",
   "source": "## 1733.npz",
   "id": "9ef5c7bf52b8a024"
  },
  {
   "metadata": {},
   "cell_type": "code",
   "source": [
    "_df = df[df['filename'] == '1733.npz']\n",
    "parallel_coordinates(_df, 'acc_sound')\n",
    "parallel_coordinates(_df, 'acc_delta')\n",
    "moving_plot(_df, 'acc_sound')\n",
    "moving_plot(_df, 'acc_delta')\n",
    "color_plot(_df, 'acc_sound')\n",
    "color_plot(_df, 'acc_delta')"
   ],
   "id": "32f2e3931e55ab53",
   "outputs": [],
   "execution_count": null
  },
  {
   "metadata": {},
   "cell_type": "markdown",
   "source": "## 1787.npz",
   "id": "6577f7af05444c76"
  },
  {
   "metadata": {},
   "cell_type": "code",
   "source": [
    "_df = df[df['filename'] == '1787.npz']\n",
    "parallel_coordinates(_df, 'acc_sound')\n",
    "parallel_coordinates(_df, 'acc_delta')\n",
    "moving_plot(_df, 'acc_sound')\n",
    "moving_plot(_df, 'acc_delta')\n",
    "color_plot(_df, 'acc_sound')\n",
    "color_plot(_df, 'acc_delta')\n"
   ],
   "id": "7788a60ac6189d91",
   "outputs": [],
   "execution_count": null
  },
  {
   "metadata": {},
   "cell_type": "markdown",
   "source": "# Second Approach",
   "id": "537329af29554562"
  },
  {
   "metadata": {},
   "cell_type": "markdown",
   "source": "## 1200.npz",
   "id": "4c5a8d9971e07b9"
  },
  {
   "metadata": {},
   "cell_type": "code",
   "source": [
    "_df = df[df['filename'] == '1200.npz']\n",
    "parallel_coordinates(_df, 'acc_sound')\n",
    "parallel_coordinates(_df, 'acc_delta')\n",
    "moving_plot(_df, 'acc_sound')\n",
    "moving_plot(_df, 'acc_delta')\n",
    "color_plot(_df, 'acc_sound')\n",
    "color_plot(_df, 'acc_delta')"
   ],
   "id": "4f54d75f89fd852f",
   "outputs": [],
   "execution_count": null
  },
  {
   "metadata": {},
   "cell_type": "markdown",
   "source": "## 1735.npz",
   "id": "1e8bed1d188f0ff2"
  },
  {
   "metadata": {},
   "cell_type": "code",
   "source": [
    "_df = df[df['filename'] == '1735.npz']\n",
    "parallel_coordinates(_df, 'acc_sound')\n",
    "parallel_coordinates(_df, 'acc_delta')\n",
    "moving_plot(_df, 'acc_sound')\n",
    "moving_plot(_df, 'acc_delta')\n",
    "color_plot(_df, 'acc_sound')\n",
    "color_plot(_df, 'acc_delta')\n"
   ],
   "id": "3444ef6593ff1601",
   "outputs": [],
   "execution_count": null
  },
  {
   "metadata": {},
   "cell_type": "markdown",
   "source": "## 7033.npz",
   "id": "1659b09467e6620f"
  },
  {
   "metadata": {},
   "cell_type": "code",
   "source": [
    "_df = df[df['filename'] == '7033.npz']\n",
    "parallel_coordinates(_df, 'acc_sound')\n",
    "parallel_coordinates(_df, 'acc_delta')\n",
    "moving_plot(_df, 'acc_sound')\n",
    "moving_plot(_df, 'acc_delta')\n",
    "color_plot(_df, 'acc_sound')\n",
    "color_plot(_df, 'acc_delta')"
   ],
   "id": "9e26dae391401376",
   "outputs": [],
   "execution_count": null
  },
  {
   "metadata": {},
   "cell_type": "markdown",
   "source": "## 1700.npz",
   "id": "23962f7d5fb0ca99"
  },
  {
   "metadata": {},
   "cell_type": "code",
   "source": [
    "_df = df[df['filename'] == '1700.npz']\n",
    "parallel_coordinates(_df, 'acc_sound')\n",
    "parallel_coordinates(_df, 'acc_delta')\n",
    "moving_plot(_df, 'acc_sound')\n",
    "moving_plot(_df, 'acc_delta')\n",
    "color_plot(_df, 'acc_sound')\n",
    "color_plot(_df, 'acc_delta')\n"
   ],
   "id": "8592a1d017c70a0f",
   "outputs": [],
   "execution_count": null
  },
  {
   "metadata": {},
   "cell_type": "markdown",
   "source": "# Third Approach",
   "id": "b11138fdfa2ca32d"
  },
  {
   "metadata": {},
   "cell_type": "markdown",
   "source": "## 0.npz",
   "id": "c737ae6193a2f44b"
  },
  {
   "metadata": {},
   "cell_type": "code",
   "source": [
    "_df = df[df['filename'] == '0.npz']\n",
    "parallel_coordinates(_df, 'acc_sound')\n",
    "parallel_coordinates(_df, 'acc_delta')\n",
    "moving_plot(_df, 'acc_sound')\n",
    "moving_plot(_df, 'acc_delta')\n",
    "color_plot(_df, 'acc_sound')\n",
    "color_plot(_df, 'acc_delta')\n"
   ],
   "id": "ffae80c4110632d1",
   "outputs": [],
   "execution_count": null
  },
  {
   "metadata": {},
   "cell_type": "markdown",
   "source": "## 138.npz ",
   "id": "76a249eb2ccddb58"
  },
  {
   "metadata": {},
   "cell_type": "code",
   "source": [
    "\n",
    "_df = df[df['filename'] == '138.npz']\n",
    "parallel_coordinates(_df, 'acc_sound')\n",
    "parallel_coordinates(_df, 'acc_delta')\n",
    "moving_plot(_df, 'acc_sound')\n",
    "moving_plot(_df, 'acc_delta')\n",
    "color_plot(_df, 'acc_sound')\n",
    "color_plot(_df, 'acc_delta')\n"
   ],
   "id": "1a4453332a508493",
   "outputs": [],
   "execution_count": null
  },
  {
   "metadata": {},
   "cell_type": "markdown",
   "source": "## 341.npz",
   "id": "5f83fbbb9ed0b9c6"
  },
  {
   "metadata": {},
   "cell_type": "code",
   "source": [
    "\n",
    "_df = df[df['filename'] == '341.npz']\n",
    "parallel_coordinates(_df, 'acc_sound')\n",
    "parallel_coordinates(_df, 'acc_delta')\n",
    "moving_plot(_df, 'acc_sound')\n",
    "moving_plot(_df, 'acc_delta')\n",
    "color_plot(_df, 'acc_sound')\n",
    "color_plot(_df, 'acc_delta')\n"
   ],
   "id": "56c8b0f743bde83",
   "outputs": [],
   "execution_count": null
  },
  {
   "metadata": {},
   "cell_type": "markdown",
   "source": "## 255.npz",
   "id": "c790e04c5d0b827d"
  },
  {
   "metadata": {},
   "cell_type": "code",
   "source": [
    "_df = df[df['filename'] == '255.npz']\n",
    "parallel_coordinates(_df, 'acc_sound')\n",
    "parallel_coordinates(_df, 'acc_delta')\n",
    "moving_plot(_df, 'acc_sound')\n",
    "moving_plot(_df, 'acc_delta')\n",
    "color_plot(_df, 'acc_sound')\n",
    "color_plot(_df, 'acc_delta')\n"
   ],
   "id": "36eb6e2b0af9e229",
   "outputs": [],
   "execution_count": null
  }
 ],
 "metadata": {
  "kernelspec": {
   "display_name": "Python 3",
   "language": "python",
   "name": "python3"
  },
  "language_info": {
   "codemirror_mode": {
    "name": "ipython",
    "version": 2
   },
   "file_extension": ".py",
   "mimetype": "text/x-python",
   "name": "python",
   "nbconvert_exporter": "python",
   "pygments_lexer": "ipython2",
   "version": "2.7.6"
  }
 },
 "nbformat": 4,
 "nbformat_minor": 5
}
