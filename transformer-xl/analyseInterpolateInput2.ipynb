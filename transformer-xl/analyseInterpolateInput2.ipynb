{
 "cells": [
  {
   "cell_type": "code",
   "id": "initial_id",
   "metadata": {
    "collapsed": true
   },
   "source": [
    "import pandas as pd\n",
    "import seaborn as sns\n",
    "import matplotlib.pyplot as plt"
   ],
   "outputs": [],
   "execution_count": null
  },
  {
   "metadata": {},
   "cell_type": "code",
   "source": [
    "df = pd.read_csv('logs/interpolate_fullMemList_logs.csv')\n",
    "df.head()"
   ],
   "id": "d369f7ea37fccd21",
   "outputs": [],
   "execution_count": null
  },
  {
   "metadata": {},
   "cell_type": "code",
   "source": [
    "df0 = df[df['filename']=='0.npz']\n",
    "# Setting up the plot style\n",
    "sns.set(style=\"whitegrid\")\n",
    "\n",
    "# Creating the plot with `alpha` on the x-axis and `acc_sound` on the y-axis, grouped by `mirrored`\n",
    "plt.figure(figsize=(10, 6))\n",
    "sns.lineplot(data=df0, x='alpha', y='acc_sound', hue='mirrored', marker='o', errorbar=None)\n",
    "\n",
    "# Setting plot labels and title\n",
    "plt.xlabel(\"Alpha\")\n",
    "plt.ylabel(\"Acc Sound\")\n",
    "plt.title(\"Acc Sound vs Alpha, grouped by Mirrored\")\n",
    "plt.legend(title=\"Mirrored\")\n",
    "plt.show()\n"
   ],
   "id": "c887dad5c93f00d3",
   "outputs": [],
   "execution_count": null
  },
  {
   "metadata": {},
   "cell_type": "markdown",
   "source": "## 1.npz",
   "id": "abacee7c053c7bbf"
  },
  {
   "metadata": {},
   "cell_type": "code",
   "source": [
    "df1 = df[df['filename']=='0.npz']\n",
    "# Setting up the plot style\n",
    "sns.set(style=\"whitegrid\")\n",
    "\n",
    "# Creating the plot with `alpha` on the x-axis and `acc_sound` on the y-axis, grouped by `mirrored`\n",
    "plt.figure(figsize=(10, 6))\n",
    "sns.lineplot(data=df1, x='alpha', y='acc_sound', hue='mirrored', marker='o', errorbar=None)\n",
    "\n",
    "# Setting plot labels and title\n",
    "plt.xlabel(\"Alpha\")\n",
    "plt.ylabel(\"Acc Sound\")\n",
    "plt.title(\"Acc Sound vs Alpha, grouped by Mirrored\")\n",
    "plt.legend(title=\"Mirrored\")\n",
    "plt.show()\n"
   ],
   "id": "dd2c8bcf6957f5df",
   "outputs": [],
   "execution_count": null
  }
 ],
 "metadata": {
  "kernelspec": {
   "display_name": "Python 3",
   "language": "python",
   "name": "python3"
  },
  "language_info": {
   "codemirror_mode": {
    "name": "ipython",
    "version": 2
   },
   "file_extension": ".py",
   "mimetype": "text/x-python",
   "name": "python",
   "nbconvert_exporter": "python",
   "pygments_lexer": "ipython2",
   "version": "2.7.6"
  }
 },
 "nbformat": 4,
 "nbformat_minor": 5
}
