{
 "cells": [
  {
   "cell_type": "code",
   "id": "initial_id",
   "metadata": {
    "collapsed": true
   },
   "source": [
    "import pandas as pd\n",
    "import seaborn as sns\n",
    "import matplotlib.pyplot as plt"
   ],
   "outputs": [],
   "execution_count": null
  },
  {
   "metadata": {},
   "cell_type": "code",
   "source": [
    "def plot(df, y, filename):\n",
    "    df0 = df[df['filename']==filename]\n",
    "    # Setting up the plot style\n",
    "    sns.set(style=\"whitegrid\")\n",
    "\n",
    "    # Creating the plot with `alpha` on the x-axis and `acc_sound` on the y-axis, grouped by `mirrored`\n",
    "    plt.figure(figsize=(10, 6))\n",
    "    sns.lineplot(data=df0, x='alpha', y=y, hue='filename', errorbar=None)\n",
    "\n",
    "    # Setting plot labels and title\n",
    "    plt.xlabel(\"Alpha\")\n",
    "    if 'sound' in filename:\n",
    "        plt.ylabel('Accuracy Sound')\n",
    "    else:\n",
    "        plt.ylabel('Accuracy Delta')\n",
    "    plt.show()\n",
    "    \n",
    "def plotAll(df, y):\n",
    "    df0=df\n",
    "    # Setting up the plot style\n",
    "    sns.set(style=\"whitegrid\")\n",
    "\n",
    "    # Creating the plot with `alpha` on the x-axis and `acc_sound` on the y-axis, grouped by `mirrored`\n",
    "    plt.figure(figsize=(10, 6))\n",
    "    sns.lineplot(data=df0, x='alpha', y=y, hue='filename', errorbar=None)\n",
    "    plt.legend(loc='lower right', bbox_to_anchor=(1, 0), title='Filename')  # Fine-tuning position\n",
    "\n",
    "    # Setting plot labels and title\n",
    "    plt.xlabel(\"Alpha\")\n",
    "    if 'sound' in y:\n",
    "        plt.ylabel('Accuracy Sound')\n",
    "    else:\n",
    "        plt.ylabel('Accuracy Delta')\n",
    "        \n",
    "    #plt.savefig(f\"../../writing/images/interpolate/interpolateGenOnly{y}80epochs.png\", bbox_inches='tight')  # Save the figure with tight bounding box\n",
    "    plt.show()\n",
    "\n"
   ],
   "id": "fb6bcb1e0721053",
   "outputs": [],
   "execution_count": null
  },
  {
   "metadata": {},
   "cell_type": "markdown",
   "source": "# 80 Epochs\n",
   "id": "211f4cfb00791546"
  },
  {
   "metadata": {},
   "cell_type": "markdown",
   "source": "## Interpolate full mem list",
   "id": "7a393eb59c3a49c2"
  },
  {
   "metadata": {},
   "cell_type": "code",
   "source": [
    "df = pd.read_csv('logs/80epochs/interpolate_fullMemList80Epochs.csv')\n",
    "df = df[(df['filename']!= '0.npz') & (df['filename']!='1.npz')]\n",
    "df.head()"
   ],
   "id": "d369f7ea37fccd21",
   "outputs": [],
   "execution_count": null
  },
  {
   "metadata": {},
   "cell_type": "code",
   "source": [
    "plotAll(df, 'acc_sound')\n",
    "plotAll(df, 'acc_delta')"
   ],
   "id": "c887dad5c93f00d3",
   "outputs": [],
   "execution_count": null
  },
  {
   "metadata": {},
   "cell_type": "markdown",
   "source": "## Interpolate only generated value",
   "id": "1fb57b1d63e2c7d1"
  },
  {
   "metadata": {},
   "cell_type": "code",
   "source": [
    "df = pd.read_csv('logs/80epochs/interpolate_only_generated_output80Epochs.csv')\n",
    "df = df[(df['filename']!= '0.npz') & (df['filename']!='1.npz')]\n",
    "df.head()"
   ],
   "id": "118104a959f5427d",
   "outputs": [],
   "execution_count": null
  },
  {
   "metadata": {},
   "cell_type": "code",
   "source": [
    "plotAll(df, 'acc_sound')\n",
    "plotAll(df, 'acc_delta')"
   ],
   "id": "ca981ac55f8b475b",
   "outputs": [],
   "execution_count": null
  },
  {
   "metadata": {},
   "cell_type": "markdown",
   "source": "# 500 epochs",
   "id": "edf65138622a9771"
  },
  {
   "metadata": {},
   "cell_type": "markdown",
   "source": "## Interpolate full mem_len",
   "id": "d5ea348f8c7b187a"
  },
  {
   "metadata": {},
   "cell_type": "code",
   "source": [
    "df = pd.read_csv('logs/500epochs/interpolate_fullMemList500Epochs.csv')\n",
    "df.shape"
   ],
   "id": "4ad9fe9046997fc1",
   "outputs": [],
   "execution_count": null
  },
  {
   "metadata": {},
   "cell_type": "code",
   "source": [
    "plotAll(df, 'acc_sound')\n",
    "plotAll(df, 'acc_delta')"
   ],
   "id": "f95d280af39ecdcf",
   "outputs": [],
   "execution_count": null
  },
  {
   "metadata": {},
   "cell_type": "markdown",
   "source": "## Interpolate only generated value",
   "id": "e073ed23f52c4fe0"
  },
  {
   "metadata": {},
   "cell_type": "code",
   "source": [
    "df = pd.read_csv('logs/500epochs/interpolate_only_generated_output500epochs.csv')\n",
    "df = df[(df['filename']!= '11.npz') & (df['filename']!='187.npz') & (df['filename']!='774.npz')]\n",
    "df.shape"
   ],
   "id": "ad7407b4813b9aa0",
   "outputs": [],
   "execution_count": null
  },
  {
   "metadata": {},
   "cell_type": "code",
   "source": [
    "plotAll(df, 'acc_sound')\n",
    "plotAll(df, 'acc_delta')"
   ],
   "id": "e6e337c7e43a4d1",
   "outputs": [],
   "execution_count": null
  }
 ],
 "metadata": {
  "kernelspec": {
   "display_name": "Python 3",
   "language": "python",
   "name": "python3"
  },
  "language_info": {
   "codemirror_mode": {
    "name": "ipython",
    "version": 2
   },
   "file_extension": ".py",
   "mimetype": "text/x-python",
   "name": "python",
   "nbconvert_exporter": "python",
   "pygments_lexer": "ipython2",
   "version": "2.7.6"
  }
 },
 "nbformat": 4,
 "nbformat_minor": 5
}
