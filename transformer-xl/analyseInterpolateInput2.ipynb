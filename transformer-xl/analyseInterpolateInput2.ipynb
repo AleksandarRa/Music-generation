{
 "cells": [
  {
   "cell_type": "code",
   "id": "initial_id",
   "metadata": {
    "collapsed": true
   },
   "source": [
    "import pandas as pd\n",
    "import seaborn as sns\n",
    "import matplotlib.pyplot as plt"
   ],
   "outputs": [],
   "execution_count": null
  },
  {
   "metadata": {},
   "cell_type": "code",
   "source": [
    "def plot(df, y, filename):\n",
    "    df0 = df[df['filename']==filename]\n",
    "    # Setting up the plot style\n",
    "    sns.set(style=\"whitegrid\")\n",
    "\n",
    "    # Creating the plot with `alpha` on the x-axis and `acc_sound` on the y-axis, grouped by `mirrored`\n",
    "    plt.figure(figsize=(10, 6))\n",
    "    sns.lineplot(data=df0, x='alpha', y=y, errorbar=None)\n",
    "\n",
    "    # Setting plot labels and title\n",
    "    plt.xlabel(\"Alpha\")\n",
    "    plt.ylabel(\"Acc Sound\")\n",
    "    plt.title(filename + \" | \" + y)\n",
    "    plt.show()\n"
   ],
   "id": "fb6bcb1e0721053",
   "outputs": [],
   "execution_count": null
  },
  {
   "metadata": {},
   "cell_type": "markdown",
   "source": "# 80 Epochs\n",
   "id": "211f4cfb00791546"
  },
  {
   "metadata": {},
   "cell_type": "markdown",
   "source": "## Interpolate full mem list",
   "id": "7a393eb59c3a49c2"
  },
  {
   "metadata": {},
   "cell_type": "code",
   "source": [
    "df = pd.read_csv('logs/80epochs/interpolate_fullMemList80Epochs.csv')\n",
    "df['alpha'] = 1.0 - df['alpha']\n",
    "df.shape"
   ],
   "id": "d369f7ea37fccd21",
   "outputs": [],
   "execution_count": null
  },
  {
   "metadata": {},
   "cell_type": "markdown",
   "source": "### 0.npz",
   "id": "7208b9959e7f9c06"
  },
  {
   "metadata": {},
   "cell_type": "code",
   "source": [
    "plot(df, 'acc_sound', '0.npz')\n",
    "plot(df, 'acc_delta', '0.npz')"
   ],
   "id": "c887dad5c93f00d3",
   "outputs": [],
   "execution_count": null
  },
  {
   "metadata": {},
   "cell_type": "markdown",
   "source": "### 1.npz",
   "id": "d5c049fd13634e72"
  },
  {
   "metadata": {},
   "cell_type": "code",
   "source": [
    "plot(df, 'acc_sound', '1.npz')\n",
    "plot(df, 'acc_delta', '1.npz')"
   ],
   "id": "986b4d957f679718",
   "outputs": [],
   "execution_count": null
  },
  {
   "metadata": {},
   "cell_type": "markdown",
   "source": "### 138.npz",
   "id": "175851892691649b"
  },
  {
   "metadata": {},
   "cell_type": "code",
   "source": [
    "plot(df, 'acc_sound', '138.npz')\n",
    "plot(df, 'acc_delta', '138.npz')"
   ],
   "id": "35921b532ce30b3e",
   "outputs": [],
   "execution_count": null
  },
  {
   "metadata": {},
   "cell_type": "markdown",
   "source": "### 255.npz",
   "id": "355510fd2bd446c4"
  },
  {
   "metadata": {},
   "cell_type": "code",
   "source": [
    "plot(df, 'acc_sound', '255.npz')\n",
    "plot(df, 'acc_delta', '255.npz')"
   ],
   "id": "96d33811006ec862",
   "outputs": [],
   "execution_count": null
  },
  {
   "metadata": {},
   "cell_type": "markdown",
   "source": "## Interpolate only generated value",
   "id": "1fb57b1d63e2c7d1"
  },
  {
   "metadata": {},
   "cell_type": "code",
   "source": [
    "df = pd.read_csv('logs/80epochs/interpolate_only_generated_output80Epochs.csv')\n",
    "df['alpha'] = 1.0 - df['alpha']\n",
    "df.shape"
   ],
   "id": "118104a959f5427d",
   "outputs": [],
   "execution_count": null
  },
  {
   "metadata": {},
   "cell_type": "markdown",
   "source": "### 0.npz",
   "id": "18ddb787ebaa3ed7"
  },
  {
   "metadata": {},
   "cell_type": "code",
   "source": [
    "plot(df, 'acc_sound', '0.npz')\n",
    "plot(df, 'acc_delta', '0.npz')"
   ],
   "id": "ca981ac55f8b475b",
   "outputs": [],
   "execution_count": null
  },
  {
   "metadata": {},
   "cell_type": "markdown",
   "source": "### 1.npz",
   "id": "7d13621f341caf63"
  },
  {
   "metadata": {},
   "cell_type": "code",
   "source": [
    "plot(df, 'acc_sound', '1.npz')\n",
    "plot(df, 'acc_delta', '1.npz')"
   ],
   "id": "1f296071122d9b90",
   "outputs": [],
   "execution_count": null
  },
  {
   "metadata": {},
   "cell_type": "markdown",
   "source": "# 500 epochs",
   "id": "edf65138622a9771"
  },
  {
   "metadata": {},
   "cell_type": "markdown",
   "source": "## Interpolate full mem_len",
   "id": "d5ea348f8c7b187a"
  },
  {
   "metadata": {},
   "cell_type": "code",
   "source": [
    "df = pd.read_csv('logs/500epochs/interpolate_fullMemList500Epochs.csv')\n",
    "df.shape"
   ],
   "id": "4ad9fe9046997fc1",
   "outputs": [],
   "execution_count": null
  },
  {
   "metadata": {},
   "cell_type": "markdown",
   "source": "### 138.npz",
   "id": "5d28edc34a565124"
  },
  {
   "metadata": {},
   "cell_type": "code",
   "source": [
    "plot(df, 'acc_sound', '138.npz')\n",
    "plot(df, 'acc_delta', '138.npz')"
   ],
   "id": "f95d280af39ecdcf",
   "outputs": [],
   "execution_count": null
  },
  {
   "metadata": {},
   "cell_type": "markdown",
   "source": "### 255.npz",
   "id": "55f0a7e35727e4"
  },
  {
   "metadata": {},
   "cell_type": "code",
   "source": [
    "plot(df, 'acc_sound', '255.npz')\n",
    "plot(df, 'acc_delta', '255.npz')"
   ],
   "id": "bea46994e3d6895a",
   "outputs": [],
   "execution_count": null
  },
  {
   "metadata": {},
   "cell_type": "markdown",
   "source": "### 341.npz",
   "id": "7efb973602d964f8"
  },
  {
   "metadata": {},
   "cell_type": "code",
   "source": [
    "plot(df, 'acc_sound', '341.npz')\n",
    "plot(df, 'acc_delta', '341.npz')"
   ],
   "id": "c5c9cc6f3e3f5938",
   "outputs": [],
   "execution_count": null
  },
  {
   "metadata": {},
   "cell_type": "markdown",
   "source": "### 346.npz",
   "id": "a0f3f9ca003c4f1d"
  },
  {
   "metadata": {},
   "cell_type": "code",
   "source": [
    "plot(df, 'acc_sound', '346.npz')\n",
    "plot(df, 'acc_delta', '346.npz')\n"
   ],
   "id": "f13c814783c5edb1",
   "outputs": [],
   "execution_count": null
  },
  {
   "metadata": {},
   "cell_type": "markdown",
   "source": "## Interpolate only generated value",
   "id": "e073ed23f52c4fe0"
  },
  {
   "metadata": {},
   "cell_type": "code",
   "source": [
    "df = pd.read_csv('logs/500epochs/interpolate_only_generated_output500epochs.csv')\n",
    "df['alpha'] = 1.0 - df['alpha']\n",
    "df.shape"
   ],
   "id": "ad7407b4813b9aa0",
   "outputs": [],
   "execution_count": null
  },
  {
   "metadata": {},
   "cell_type": "markdown",
   "source": "### 138.npz",
   "id": "3b46219fb15d73c6"
  },
  {
   "metadata": {},
   "cell_type": "code",
   "source": [
    "plot(df, 'acc_sound', '138.npz')\n",
    "plot(df, 'acc_delta', '138.npz')"
   ],
   "id": "e6e337c7e43a4d1",
   "outputs": [],
   "execution_count": null
  },
  {
   "metadata": {},
   "cell_type": "markdown",
   "source": "### 255.npz",
   "id": "b25a8bf4a7ae4212"
  },
  {
   "metadata": {},
   "cell_type": "code",
   "source": [
    "plot(df, 'acc_sound', '255.npz')\n",
    "plot(df, 'acc_delta', '255.npz')"
   ],
   "id": "5d3edf7be620041",
   "outputs": [],
   "execution_count": null
  },
  {
   "metadata": {},
   "cell_type": "markdown",
   "source": "### 341.npz",
   "id": "19d032e5fb1b52f7"
  },
  {
   "metadata": {},
   "cell_type": "code",
   "source": [
    "plot(df, 'acc_sound', '341.npz')\n",
    "plot(df, 'acc_delta', '341.npz')"
   ],
   "id": "af394b1b0d35aad7",
   "outputs": [],
   "execution_count": null
  },
  {
   "metadata": {},
   "cell_type": "markdown",
   "source": "### 346.npz",
   "id": "424fe0ef1fa3478a"
  },
  {
   "metadata": {},
   "cell_type": "code",
   "source": [
    "plot(df, 'acc_sound', '346.npz')\n",
    "plot(df, 'acc_delta', '346.npz')"
   ],
   "id": "67f945f6a42faca2",
   "outputs": [],
   "execution_count": null
  }
 ],
 "metadata": {
  "kernelspec": {
   "display_name": "Python 3",
   "language": "python",
   "name": "python3"
  },
  "language_info": {
   "codemirror_mode": {
    "name": "ipython",
    "version": 2
   },
   "file_extension": ".py",
   "mimetype": "text/x-python",
   "name": "python",
   "nbconvert_exporter": "python",
   "pygments_lexer": "ipython2",
   "version": "2.7.6"
  }
 },
 "nbformat": 4,
 "nbformat_minor": 5
}
