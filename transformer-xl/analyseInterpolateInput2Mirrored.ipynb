{
 "cells": [
  {
   "cell_type": "code",
   "id": "initial_id",
   "metadata": {
    "collapsed": true
   },
   "source": [
    "import pandas as pd\n",
    "import seaborn as sns\n",
    "import matplotlib.pyplot as plt"
   ],
   "outputs": [],
   "execution_count": null
  },
  {
   "metadata": {},
   "cell_type": "markdown",
   "source": [
    "## First approach\n",
    "\n",
    "mirrored label is from element 2*seq_len until 3*seq_len"
   ],
   "id": "211f4cfb00791546"
  },
  {
   "metadata": {},
   "cell_type": "code",
   "source": [
    "df = pd.read_csv('logs/interpolate_fullMemList_logs.csv')\n",
    "df.head()"
   ],
   "id": "d369f7ea37fccd21",
   "outputs": [],
   "execution_count": null
  },
  {
   "metadata": {},
   "cell_type": "code",
   "source": [
    "df0 = df[df['filename']=='0.npz']\n",
    "# Setting up the plot style\n",
    "sns.set(style=\"whitegrid\")\n",
    "\n",
    "# Creating the plot with `alpha` on the x-axis and `acc_sound` on the y-axis, grouped by `mirrored`\n",
    "plt.figure(figsize=(10, 6))\n",
    "sns.lineplot(data=df0, x='alpha', y='acc_sound', hue='mirrored', marker='o', errorbar=None)\n",
    "\n",
    "# Setting plot labels and title\n",
    "plt.xlabel(\"Alpha\")\n",
    "plt.ylabel(\"Acc Sound\")\n",
    "plt.title(\"0.npz | Acc Sound\")\n",
    "plt.legend(title=\"Mirrored\")\n",
    "plt.show()\n"
   ],
   "id": "c887dad5c93f00d3",
   "outputs": [],
   "execution_count": null
  },
  {
   "metadata": {},
   "cell_type": "code",
   "source": [
    "# Setting up the plot style\n",
    "sns.set(style=\"whitegrid\")\n",
    "\n",
    "# Creating the plot with `alpha` on the x-axis and `acc_sound` on the y-axis, grouped by `mirrored`\n",
    "plt.figure(figsize=(10, 6))\n",
    "sns.lineplot(data=df0, x='alpha', y='acc_delta', hue='mirrored', marker='o', errorbar=None)\n",
    "\n",
    "# Setting plot labels and title\n",
    "plt.xlabel(\"Alpha\")\n",
    "plt.ylabel(\"Acc Delta\")\n",
    "plt.title(\"0.npz | Acc Delta\")\n",
    "plt.legend(title=\"Mirrored\")\n",
    "plt.show()\n"
   ],
   "id": "986b4d957f679718",
   "outputs": [],
   "execution_count": null
  },
  {
   "metadata": {},
   "cell_type": "code",
   "source": [
    "df1 = df[df['filename']=='1.npz']\n",
    "# Setting up the plot style\n",
    "sns.set(style=\"whitegrid\")\n",
    "\n",
    "# Creating the plot with `alpha` on the x-axis and `acc_sound` on the y-axis, grouped by `mirrored`\n",
    "plt.figure(figsize=(10, 6))\n",
    "sns.lineplot(data=df1, x='alpha', y='acc_sound', hue='mirrored', marker='o', errorbar=None)\n",
    "\n",
    "# Setting plot labels and title\n",
    "plt.xlabel(\"Alpha\")\n",
    "plt.ylabel(\"Acc Sound\")\n",
    "plt.title(\"1.npz | Acc Sound vs Alpha\")\n",
    "plt.legend(title=\"Mirrored\")\n",
    "plt.show()\n"
   ],
   "id": "dd2c8bcf6957f5df",
   "outputs": [],
   "execution_count": null
  },
  {
   "metadata": {},
   "cell_type": "code",
   "source": [
    "# Setting up the plot style\n",
    "sns.set(style=\"whitegrid\")\n",
    "\n",
    "# Creating the plot with `alpha` on the x-axis and `acc_sound` on the y-axis, grouped by `mirrored`\n",
    "plt.figure(figsize=(10, 6))\n",
    "sns.lineplot(data=df1, x='alpha', y='acc_delta', hue='mirrored', marker='o', errorbar=None)\n",
    "\n",
    "# Setting plot labels and title\n",
    "plt.xlabel(\"Alpha\")\n",
    "plt.ylabel(\"Acc Delta\")\n",
    "plt.title(\"1.npz | Acc Delta\")\n",
    "plt.legend(title=\"Mirrored\")\n",
    "plt.show()\n"
   ],
   "id": "2a7fdbe0d4d84a85",
   "outputs": [],
   "execution_count": null
  },
  {
   "metadata": {},
   "cell_type": "markdown",
   "source": [
    "## Second approach\n",
    "\n",
    "labels mirrored = input1 = from element position seq_len until 2*seq_len"
   ],
   "id": "1fb57b1d63e2c7d1"
  },
  {
   "metadata": {},
   "cell_type": "code",
   "source": [
    "df = pd.read_csv('logs/interpolate_fullMemList2_logs.csv')\n",
    "df.head()"
   ],
   "id": "118104a959f5427d",
   "outputs": [],
   "execution_count": null
  },
  {
   "metadata": {},
   "cell_type": "code",
   "source": [
    "df0 = df[df['filename']=='0.npz']\n",
    "# Setting up the plot style\n",
    "sns.set(style=\"whitegrid\")\n",
    "\n",
    "# Creating the plot with `alpha` on the x-axis and `acc_sound` on the y-axis, grouped by `mirrored`\n",
    "plt.figure(figsize=(10, 6))\n",
    "sns.lineplot(data=df0, x='alpha', y='acc_sound', hue='mirrored', marker='o', errorbar=None)\n",
    "\n",
    "# Setting plot labels and title\n",
    "plt.xlabel(\"Alpha\")\n",
    "plt.ylabel(\"Acc Sound\")\n",
    "plt.title(\"0.npz | Acc Sound vs Alpha\")\n",
    "plt.legend(title=\"Mirrored\")\n",
    "plt.show()"
   ],
   "id": "404947a47fa2b280",
   "outputs": [],
   "execution_count": null
  },
  {
   "metadata": {},
   "cell_type": "code",
   "source": [
    "# Setting up the plot style\n",
    "sns.set(style=\"whitegrid\")\n",
    "\n",
    "# Creating the plot with `alpha` on the x-axis and `acc_sound` on the y-axis, grouped by `mirrored`\n",
    "plt.figure(figsize=(10, 6))\n",
    "sns.lineplot(data=df0, x='alpha', y='acc_delta', hue='mirrored', marker='o', errorbar=None)\n",
    "\n",
    "# Setting plot labels and title\n",
    "plt.xlabel(\"Alpha\")\n",
    "plt.ylabel(\"Acc Delta\")\n",
    "plt.title(\"0.npz | Acc Delta\")\n",
    "plt.legend(title=\"Mirrored\")\n",
    "plt.show()"
   ],
   "id": "e14fddbf9ad1f5bf",
   "outputs": [],
   "execution_count": null
  },
  {
   "metadata": {},
   "cell_type": "code",
   "source": [
    "df1 = df[df['filename']=='1.npz']\n",
    "# Setting up the plot style\n",
    "sns.set(style=\"whitegrid\")\n",
    "\n",
    "# Creating the plot with `alpha` on the x-axis and `acc_sound` on the y-axis, grouped by `mirrored`\n",
    "plt.figure(figsize=(10, 6))\n",
    "sns.lineplot(data=df1, x='alpha', y='acc_sound', hue='mirrored', marker='o', errorbar=None)\n",
    "\n",
    "# Setting plot labels and title\n",
    "plt.xlabel(\"Alpha\")\n",
    "plt.ylabel(\"Acc Sound\")\n",
    "plt.title(\"1.npz | Acc Sound vs Alpha\")\n",
    "plt.legend(title=\"Mirrored\")\n",
    "plt.show()"
   ],
   "id": "78f40fa4ab7ffbbb",
   "outputs": [],
   "execution_count": null
  },
  {
   "metadata": {},
   "cell_type": "code",
   "source": [
    "# Setting up the plot style\n",
    "sns.set(style=\"whitegrid\")\n",
    "\n",
    "# Creating the plot with `alpha` on the x-axis and `acc_sound` on the y-axis, grouped by `mirrored`\n",
    "plt.figure(figsize=(10, 6))\n",
    "sns.lineplot(data=df1, x='alpha', y='acc_delta', hue='mirrored', marker='o', errorbar=None)\n",
    "\n",
    "# Setting plot labels and title\n",
    "plt.xlabel(\"Alpha\")\n",
    "plt.ylabel(\"Acc Delta\")\n",
    "plt.title(\"1.npz | Acc Delta\")\n",
    "plt.legend(title=\"Mirrored\")\n",
    "plt.show()"
   ],
   "id": "185853dbbc1a424",
   "outputs": [],
   "execution_count": null
  }
 ],
 "metadata": {
  "kernelspec": {
   "display_name": "Python 3",
   "language": "python",
   "name": "python3"
  },
  "language_info": {
   "codemirror_mode": {
    "name": "ipython",
    "version": 2
   },
   "file_extension": ".py",
   "mimetype": "text/x-python",
   "name": "python",
   "nbconvert_exporter": "python",
   "pygments_lexer": "ipython2",
   "version": "2.7.6"
  }
 },
 "nbformat": 4,
 "nbformat_minor": 5
}
