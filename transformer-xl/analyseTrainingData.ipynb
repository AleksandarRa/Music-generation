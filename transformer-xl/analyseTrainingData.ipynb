{
 "cells": [
  {
   "cell_type": "code",
   "id": "initial_id",
   "metadata": {
    "collapsed": true
   },
   "source": [
    "import pandas as pd\n",
    "import matplotlib.pyplot as plt\n",
    "\n",
    "# Read the CSV file into a DataFrame\n",
    "df = pd.read_csv('logs/training/trainingFullDataset.csv')\n",
    "df.head()"
   ],
   "outputs": [],
   "execution_count": null
  },
  {
   "metadata": {},
   "cell_type": "code",
   "source": [
    "plt.figure(figsize=(10, 6))\n",
    "plt.plot(df['Epoch'], df['Loss'])\n",
    "plt.xlabel('Epoch')\n",
    "plt.ylabel('Loss')\n",
    "plt.title('Loss')\n",
    "plt.grid(True)\n",
    "plt.show()"
   ],
   "id": "568ad60a90c90b3b",
   "outputs": [],
   "execution_count": null
  },
  {
   "metadata": {},
   "cell_type": "code",
   "source": [
    "plt.figure(figsize=(10, 6))\n",
    "plt.plot(df['Epoch'], df['Acc_sound'])\n",
    "plt.xlabel('Epoch')\n",
    "plt.ylabel('Accuracy Sound')\n",
    "plt.title('Accuracy Sound')\n",
    "plt.grid(True)\n",
    "plt.show()\n"
   ],
   "id": "e48efd544ef7ed74",
   "outputs": [],
   "execution_count": null
  },
  {
   "metadata": {},
   "cell_type": "code",
   "source": [
    "plt.figure(figsize=(10, 6))\n",
    "plt.plot(df['Epoch'], df['Acc_delta'])\n",
    "plt.xlabel('Epoch')\n",
    "plt.ylabel('Accuracy Delta')\n",
    "plt.title('Accuracy Delta')\n",
    "plt.grid(True)\n",
    "plt.show()"
   ],
   "id": "f4a40227bfde817b",
   "outputs": [],
   "execution_count": null
  }
 ],
 "metadata": {
  "kernelspec": {
   "display_name": "Python 3",
   "language": "python",
   "name": "python3"
  },
  "language_info": {
   "codemirror_mode": {
    "name": "ipython",
    "version": 2
   },
   "file_extension": ".py",
   "mimetype": "text/x-python",
   "name": "python",
   "nbconvert_exporter": "python",
   "pygments_lexer": "ipython2",
   "version": "2.7.6"
  }
 },
 "nbformat": 4,
 "nbformat_minor": 5
}
