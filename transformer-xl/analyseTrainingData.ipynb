{
 "cells": [
  {
   "cell_type": "code",
   "id": "initial_id",
   "metadata": {
    "collapsed": true
   },
   "source": [
    "import pandas as pd\n",
    "import matplotlib.pyplot as plt"
   ],
   "outputs": [],
   "execution_count": null
  },
  {
   "metadata": {},
   "cell_type": "markdown",
   "source": "# 80 epochs",
   "id": "9387c4f7b4631dfc"
  },
  {
   "metadata": {},
   "cell_type": "code",
   "source": [
    "# Read the CSV file into a DataFrame\n",
    "df = pd.read_csv('logs/80epochs/training80Epochs.csv')\n",
    "df.head()"
   ],
   "id": "775d83df161c127f",
   "outputs": [],
   "execution_count": null
  },
  {
   "metadata": {},
   "cell_type": "code",
   "source": [
    "plt.figure(figsize=(10, 6))\n",
    "plt.plot(df['Epoch'], df['Loss'])\n",
    "plt.xlabel('Epoch')\n",
    "plt.ylabel('Loss')\n",
    "plt.title('Loss')\n",
    "plt.grid(True)\n",
    "plt.show()"
   ],
   "id": "568ad60a90c90b3b",
   "outputs": [],
   "execution_count": null
  },
  {
   "metadata": {},
   "cell_type": "code",
   "source": [
    "plt.figure(figsize=(10, 6))\n",
    "plt.plot(df['Epoch'], df['Acc_sound'])\n",
    "plt.xlabel('Epoch')\n",
    "plt.ylabel('Accuracy Sound')\n",
    "plt.title('Accuracy Sound')\n",
    "plt.grid(True)\n",
    "plt.show()\n"
   ],
   "id": "e48efd544ef7ed74",
   "outputs": [],
   "execution_count": null
  },
  {
   "metadata": {},
   "cell_type": "code",
   "source": [
    "plt.figure(figsize=(10, 6))\n",
    "plt.plot(df['Epoch'], df['Acc_delta'])\n",
    "plt.xlabel('Epoch')\n",
    "plt.ylabel('Accuracy Delta')\n",
    "plt.title('Accuracy Delta')\n",
    "plt.grid(True)\n",
    "plt.show()"
   ],
   "id": "f4a40227bfde817b",
   "outputs": [],
   "execution_count": null
  },
  {
   "metadata": {},
   "cell_type": "markdown",
   "source": "# 500 epochs",
   "id": "359e67370ec0e645"
  },
  {
   "metadata": {},
   "cell_type": "code",
   "source": [
    "# Read the CSV file into a DataFrame\n",
    "df = pd.read_csv('logs/500epochs/training500Epochs.csv')\n",
    "df.head()"
   ],
   "id": "6ea6353da23c42e7",
   "outputs": [],
   "execution_count": null
  },
  {
   "metadata": {},
   "cell_type": "code",
   "source": [
    "plt.figure(figsize=(10, 6))\n",
    "plt.plot(df['Epoch'], df['Loss'])\n",
    "plt.xlabel('Epoch')\n",
    "plt.ylabel('Loss')\n",
    "plt.title('Loss')\n",
    "plt.grid(True)\n",
    "plt.show()"
   ],
   "id": "1ed10c9cc94cc66c",
   "outputs": [],
   "execution_count": null
  },
  {
   "metadata": {},
   "cell_type": "code",
   "source": [
    "\n",
    "plt.figure(figsize=(10, 6))\n",
    "plt.plot(df['Epoch'], df['Acc_sound'])\n",
    "plt.xlabel('Epoch')\n",
    "plt.ylabel('Accuracy Sound')\n",
    "plt.title('Accuracy Sound')\n",
    "plt.grid(True)\n",
    "plt.show()"
   ],
   "id": "59dcc13ed919abd4",
   "outputs": [],
   "execution_count": null
  },
  {
   "metadata": {},
   "cell_type": "code",
   "source": [
    "plt.figure(figsize=(10, 6))\n",
    "plt.plot(df['Epoch'], df['Acc_delta'])\n",
    "plt.xlabel('Epoch')\n",
    "plt.ylabel('Accuracy Delta')\n",
    "plt.title('Accuracy Delta')\n",
    "plt.grid(True)\n",
    "plt.show()"
   ],
   "id": "10cb2ac3a9748f72",
   "outputs": [],
   "execution_count": null
  }
 ],
 "metadata": {
  "kernelspec": {
   "display_name": "Python 3",
   "language": "python",
   "name": "python3"
  },
  "language_info": {
   "codemirror_mode": {
    "name": "ipython",
    "version": 2
   },
   "file_extension": ".py",
   "mimetype": "text/x-python",
   "name": "python",
   "nbconvert_exporter": "python",
   "pygments_lexer": "ipython2",
   "version": "2.7.6"
  }
 },
 "nbformat": 4,
 "nbformat_minor": 5
}
