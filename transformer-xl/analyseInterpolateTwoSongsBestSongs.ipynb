{
 "cells": [
  {
   "cell_type": "code",
   "id": "initial_id",
   "metadata": {
    "collapsed": true
   },
   "source": [
    "import pandas as pd\n",
    "import matplotlib.pyplot as plt"
   ],
   "outputs": [],
   "execution_count": null
  },
  {
   "metadata": {},
   "cell_type": "markdown",
   "source": [
    "# Best performed songs\n",
    "The best performed songs on a seq_len=1500, gen_len=1500 and mem_len=1500 are: \n",
    "\n",
    "138.npz, 255.npz, 341.npz, 346.npz"
   ],
   "id": "6d3e65422c93c2ae"
  },
  {
   "metadata": {},
   "cell_type": "code",
   "source": [
    "\n",
    "def plot(_df, x, y1, y2, filename1, filename2):\n",
    "    # Create a figure with subplots\n",
    "    fig, axes = plt.subplots(1, 2, figsize=(14, 6), sharex=True, sharey=False)\n",
    "\n",
    "    # Plot Acc sound\n",
    "    for (filename, label), group in _df.groupby(['Filename 2', 'Label']):\n",
    "        axes[0].plot(group[x], group[y1], marker='o', label=label)\n",
    "    axes[0].set_title(f\"{filename1} - {filename2}: {y1}\")\n",
    "    axes[0].set_xlabel('Alpha')\n",
    "    axes[0].set_ylabel(y1)\n",
    "    axes[0].legend(title='Label')\n",
    "    axes[0].grid(True)\n",
    "\n",
    "    # Plot Acc delta\n",
    "    for (filename, label), group in _df.groupby(['Filename 2', 'Label']):\n",
    "        axes[1].plot(group[x], group[y2], marker='o', label=label)\n",
    "    axes[1].set_title(f\"{filename1} - {filename2}: {y2}\")\n",
    "    axes[1].set_xlabel('Alpha')\n",
    "    axes[1].set_ylabel(y2)\n",
    "    axes[1].legend(title='Label')\n",
    "    axes[1].grid(True)\n",
    "\n",
    "    # Adjust layout and show\n",
    "    plt.tight_layout()\n",
    "    #plt.savefig(f\"data/analysedData/4approach/plotsMixTwoSongs/500epochsModel/{filename1}-{filename2}_500epochs.png\", bbox_inches='tight')  # Save the figure with tight bounding box\n",
    "    plt.show()\n",
    "\n",
    "def plotAll(df):\n",
    "    filename1 = '138.npz'\n",
    "    filenames2 = ['255.npz', '341.npz', '346.npz']\n",
    "    for filename2 in filenames2:\n",
    "        df1 = df[(df['Filename 1'] == filename1) & (df['Filename 2'] == filename2)]\n",
    "        plot(df1, 'Alpha', 'Acc sound', 'Acc delta', filename1, filename2)\n",
    "\n",
    "    filename1 = '255.npz'\n",
    "    filenames2 = ['341.npz', '346.npz']\n",
    "\n",
    "    for filename2 in filenames2:\n",
    "        df1 = df[(df['Filename 1'] == filename1) & (df['Filename 2'] == filename2)]\n",
    "        plot(df1, 'Alpha', 'Acc sound', 'Acc delta', filename1, filename2)\n",
    "\n",
    "    filename1 = '341.npz'\n",
    "    filenames2 = ['346.npz']\n",
    "\n",
    "    for filename2 in filenames2:\n",
    "        df1 = df[(df['Filename 1'] == filename1) & (df['Filename 2'] == filename2)]\n",
    "        plot(df1, 'Alpha', 'Acc sound', 'Acc delta', filename1, filename2)\n"
   ],
   "id": "5d5261c6ea9b7ba2",
   "outputs": [],
   "execution_count": null
  },
  {
   "metadata": {},
   "cell_type": "markdown",
   "source": "# 80 Epochs",
   "id": "5a1bbd72018cb234"
  },
  {
   "metadata": {},
   "cell_type": "code",
   "source": [
    "df_param = pd.read_csv('logs/80epochs/analyseParametersRandom80Epochs.csv')\n",
    "df_param = df_param[(df_param['filename'] == '138.npz') | (df_param['filename'] == '255.npz') | (df_param['filename'] == '341.npz') | (df_param['filename'] == '346.npz')]\n",
    "df_param"
   ],
   "id": "ea81ae3e85b81741",
   "outputs": [],
   "execution_count": null
  },
  {
   "metadata": {},
   "cell_type": "code",
   "source": [
    "df = pd.read_csv('logs/80epochs/interpolate_two_songs/4approach/interpolate_two_songs80epochs4.csv')\n",
    "df.shape"
   ],
   "id": "880a79ec168a07d9",
   "outputs": [],
   "execution_count": null
  },
  {
   "metadata": {},
   "cell_type": "code",
   "source": "plotAll(df)",
   "id": "a1ed0b637e4d9425",
   "outputs": [],
   "execution_count": null
  },
  {
   "metadata": {},
   "cell_type": "markdown",
   "source": "# 500 Epochs",
   "id": "a7b5f20e34947ecf"
  },
  {
   "metadata": {},
   "cell_type": "code",
   "source": [
    "df_param = pd.read_csv('logs/500epochs/analyseParametersRandom500Epochs.csv')\n",
    "df_param = df_param[(df_param['filename'] == '138.npz') | (df_param['filename'] == '255.npz') | (df_param['filename'] == '341.npz') | (df_param['filename'] == '346.npz')]\n",
    "df_param\n",
    "\n"
   ],
   "id": "ea0139d5af8cc4d5",
   "outputs": [],
   "execution_count": null
  },
  {
   "metadata": {},
   "cell_type": "code",
   "source": [
    "df = pd.read_csv('logs/500epochs/interpolate_two_songs/4approach/interpolate_two_songs500epochs4.csv')\n",
    "df.shape"
   ],
   "id": "dfc14b096b9102c3",
   "outputs": [],
   "execution_count": null
  },
  {
   "metadata": {},
   "cell_type": "code",
   "source": "plotAll(df)",
   "id": "55c4bfb5c0a2ac18",
   "outputs": [],
   "execution_count": null
  },
  {
   "metadata": {},
   "cell_type": "markdown",
   "source": [
    "# 500 epochs\n",
    "interpolate all sound and delta blocks"
   ],
   "id": "236694114fc2aba4"
  },
  {
   "metadata": {},
   "cell_type": "code",
   "source": [
    "df = pd.read_csv('logs/500epochs/interpolate_two_songs/interpolate_two_songs_fullTransformer500epochs.csv')\n",
    "df.shape"
   ],
   "id": "d94330c8e27b7a3f",
   "outputs": [],
   "execution_count": null
  },
  {
   "metadata": {},
   "cell_type": "code",
   "source": "plotAll(df)",
   "id": "49729d8bbc1b4a1b",
   "outputs": [],
   "execution_count": null
  }
 ],
 "metadata": {
  "kernelspec": {
   "display_name": "Python 3",
   "language": "python",
   "name": "python3"
  },
  "language_info": {
   "codemirror_mode": {
    "name": "ipython",
    "version": 2
   },
   "file_extension": ".py",
   "mimetype": "text/x-python",
   "name": "python",
   "nbconvert_exporter": "python",
   "pygments_lexer": "ipython2",
   "version": "2.7.6"
  }
 },
 "nbformat": 4,
 "nbformat_minor": 5
}
