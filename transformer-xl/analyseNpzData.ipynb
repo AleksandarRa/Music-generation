{
 "cells": [
  {
   "cell_type": "code",
   "id": "initial_id",
   "metadata": {
    "collapsed": true,
    "ExecuteTime": {
     "end_time": "2024-12-16T14:20:53.628038Z",
     "start_time": "2024-12-16T14:20:52.931593Z"
    }
   },
   "source": [
    "import pandas as pd\n",
    "import matplotlib.pyplot as plt\n"
   ],
   "outputs": [],
   "execution_count": 2
  },
  {
   "metadata": {},
   "cell_type": "markdown",
   "source": "## 4 Approach\n",
   "id": "998a511a2802c410"
  },
  {
   "metadata": {
    "ExecuteTime": {
     "end_time": "2024-12-16T14:20:59.839030Z",
     "start_time": "2024-12-16T14:20:59.822332Z"
    }
   },
   "cell_type": "code",
   "source": [
    "df = pd.read_csv('data/analysedData/4approach/npz/npzArrayData.csv')\n",
    "df.shape"
   ],
   "id": "58f7f427d9bc8ada",
   "outputs": [
    {
     "data": {
      "text/plain": [
       "(6000, 10)"
      ]
     },
     "execution_count": 4,
     "metadata": {},
     "output_type": "execute_result"
    }
   ],
   "execution_count": 4
  },
  {
   "metadata": {},
   "cell_type": "code",
   "outputs": [],
   "execution_count": null,
   "source": "df['diff sound 0-1500'] = df['true label sound 0-1500'] - df['cutted sound 0-1500']",
   "id": "c4d56cc54ef44643"
  }
 ],
 "metadata": {
  "kernelspec": {
   "display_name": "Python 3",
   "language": "python",
   "name": "python3"
  },
  "language_info": {
   "codemirror_mode": {
    "name": "ipython",
    "version": 2
   },
   "file_extension": ".py",
   "mimetype": "text/x-python",
   "name": "python",
   "nbconvert_exporter": "python",
   "pygments_lexer": "ipython2",
   "version": "2.7.6"
  }
 },
 "nbformat": 4,
 "nbformat_minor": 5
}
