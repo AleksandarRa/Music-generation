{
 "cells": [
  {
   "cell_type": "code",
   "id": "initial_id",
   "metadata": {
    "collapsed": true
   },
   "source": "import pandas as pd",
   "outputs": [],
   "execution_count": null
  },
  {
   "metadata": {},
   "cell_type": "markdown",
   "source": "## 4 Approach\n",
   "id": "998a511a2802c410"
  },
  {
   "metadata": {},
   "cell_type": "code",
   "source": [
    "df = pd.read_csv('data/analysedData/4approach/npz/npzArrayData.csv')\n",
    "df.shape"
   ],
   "id": "58f7f427d9bc8ada",
   "outputs": [],
   "execution_count": null
  },
  {
   "metadata": {},
   "cell_type": "code",
   "source": [
    "df['diff sound 0-1500'] = df['true label sound 0-1500'] - df['cutted sound 0-1500']\n",
    "df['diff delta 0-1500'] = df['true label delta 0-1500'] - df['cutted delta 0-1500']\n",
    "df['diff sound 1500-3000'] = df['true label sound 1500-3000'] - df['cutted sound 1500-3000']\n",
    "df['diff delta 1500-3000'] = df['true label delta 1500-3000'] - df['cutted delta 1500-3000']"
   ],
   "id": "c4d56cc54ef44643",
   "outputs": [],
   "execution_count": null
  },
  {
   "metadata": {},
   "cell_type": "code",
   "source": [
    "print('dif sound 0-1500 avg: ', df['diff sound 0-1500'].mean())\n",
    "print('dif sound 1500-3000 avg: ', df['diff sound 1500-3000'].mean())\n",
    "print('dif delta 0-1500 avg: ', df['diff delta 0-1500'].mean())\n",
    "print('dif delta 1500-3000 avg: ', df['diff delta 1500-3000'].mean())\n",
    "print('dif sound 0-1500 sum: ', df['diff sound 0-1500'].sum())\n",
    "print('dif sound 1500-3000 sum: ', df['diff sound 1500-3000'].sum())\n",
    "print('dif delta 0-1500 sum: ', df['diff delta 0-1500'].sum())\n",
    "print('dif delta 1500-3000 sum: ', df['diff delta 1500-3000'].sum())"
   ],
   "id": "b0ae5c679a4836be",
   "outputs": [],
   "execution_count": null
  },
  {
   "metadata": {},
   "cell_type": "code",
   "source": [
    "df2 = pd.read_csv('data/analysedData/4approach/preprocessingTest/3_npz/npzArrayData.csv')\n",
    "df2.shape"
   ],
   "id": "d1ad6fe3f4a45c8c",
   "outputs": [],
   "execution_count": null
  },
  {
   "metadata": {},
   "cell_type": "code",
   "source": [
    "df2['diff sound'] = df2['true label sound'] - df2['preprocessed sound']\n",
    "df2['diff delta'] = df2['true label delta'] - df2['preprocessed delta']\n",
    "print('dif sound avg: ', df2['diff sound'].mean())\n",
    "print('dif delta avg: ', df2['diff delta'].mean())\n",
    "print('dif sound sum: ', df2['diff sound'].sum())\n",
    "print('dif delta sum: ', df2['diff delta'].sum())"
   ],
   "id": "3c23fc0e9fff5417",
   "outputs": [],
   "execution_count": null
  }
 ],
 "metadata": {
  "kernelspec": {
   "display_name": "Python 3",
   "language": "python",
   "name": "python3"
  },
  "language_info": {
   "codemirror_mode": {
    "name": "ipython",
    "version": 2
   },
   "file_extension": ".py",
   "mimetype": "text/x-python",
   "name": "python",
   "nbconvert_exporter": "python",
   "pygments_lexer": "ipython2",
   "version": "2.7.6"
  }
 },
 "nbformat": 4,
 "nbformat_minor": 5
}
