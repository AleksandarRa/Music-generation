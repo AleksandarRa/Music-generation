{
 "cells": [
  {
   "cell_type": "code",
   "id": "initial_id",
   "metadata": {
    "collapsed": true,
    "ExecuteTime": {
     "end_time": "2024-12-16T14:31:00.137503Z",
     "start_time": "2024-12-16T14:31:00.135518Z"
    }
   },
   "source": [
    "import pandas as pd\n",
    "import matplotlib.pyplot as plt\n"
   ],
   "outputs": [],
   "execution_count": 5
  },
  {
   "metadata": {},
   "cell_type": "markdown",
   "source": "## 4 Approach\n",
   "id": "998a511a2802c410"
  },
  {
   "metadata": {
    "ExecuteTime": {
     "end_time": "2024-12-16T14:31:00.196495Z",
     "start_time": "2024-12-16T14:31:00.188899Z"
    }
   },
   "cell_type": "code",
   "source": [
    "df = pd.read_csv('data/analysedData/4approach/npz/npzArrayData.csv')\n",
    "df.shape"
   ],
   "id": "58f7f427d9bc8ada",
   "outputs": [
    {
     "data": {
      "text/plain": [
       "(6000, 9)"
      ]
     },
     "execution_count": 6,
     "metadata": {},
     "output_type": "execute_result"
    }
   ],
   "execution_count": 6
  },
  {
   "metadata": {
    "ExecuteTime": {
     "end_time": "2024-12-16T14:32:21.690655Z",
     "start_time": "2024-12-16T14:32:21.683929Z"
    }
   },
   "cell_type": "code",
   "source": [
    "df['diff sound 0-1500'] = df['true label sound 0-1500'] - df['cutted sound 0-1500']\n",
    "df['diff delta 0-1500'] = df['true label delta 0-1500'] - df['cutted delta 0-1500']\n",
    "df['diff sound 1500-3000'] = df['true label sound 1500-3000'] - df['cutted sound 1500-3000']\n",
    "df['diff delta 1500-3000'] = df['true label delta 1500-3000'] - df['cutted delta 1500-3000']"
   ],
   "id": "c4d56cc54ef44643",
   "outputs": [],
   "execution_count": 8
  },
  {
   "metadata": {
    "ExecuteTime": {
     "end_time": "2024-12-16T14:39:16.487165Z",
     "start_time": "2024-12-16T14:39:16.478238Z"
    }
   },
   "cell_type": "code",
   "source": [
    "print('dif sound 0-1500 avg: ', df['diff sound 0-1500'].mean())\n",
    "print('dif sound 1500-3000 avg: ', df['diff sound 1500-3000'].mean())\n",
    "print('dif delta 0-1500 avg: ', df['diff delta 0-1500'].mean())\n",
    "print('dif delta 1500-3000 avg: ', df['diff delta 1500-3000'].mean())\n",
    "print('dif sound 0-1500 sum: ', df['diff sound 0-1500'].sum())\n",
    "print('dif sound 1500-3000 sum: ', df['diff sound 1500-3000'].sum())\n",
    "print('dif delta 0-1500 sum: ', df['diff delta 0-1500'].sum())\n",
    "print('dif delta 1500-3000 sum: ', df['diff delta 1500-3000'].sum())"
   ],
   "id": "b0ae5c679a4836be",
   "outputs": [
    {
     "name": "stdout",
     "output_type": "stream",
     "text": [
      "dif sound 0-1500 avg:  0.0\n",
      "dif sound 1500-3000 avg:  0.0\n",
      "dif delta 0-1500 avg:  0.0\n",
      "dif delta 1500-3000 avg:  0.0\n",
      "dif sound 0-1500 sum:  0\n",
      "dif sound 1500-3000 sum:  0\n",
      "dif delta 0-1500 sum:  0\n",
      "dif delta 1500-3000 sum:  0\n"
     ]
    }
   ],
   "execution_count": 11
  }
 ],
 "metadata": {
  "kernelspec": {
   "display_name": "Python 3",
   "language": "python",
   "name": "python3"
  },
  "language_info": {
   "codemirror_mode": {
    "name": "ipython",
    "version": 2
   },
   "file_extension": ".py",
   "mimetype": "text/x-python",
   "name": "python",
   "nbconvert_exporter": "python",
   "pygments_lexer": "ipython2",
   "version": "2.7.6"
  }
 },
 "nbformat": 4,
 "nbformat_minor": 5
}
