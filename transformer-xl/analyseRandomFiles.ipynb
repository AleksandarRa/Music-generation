{
 "cells": [
  {
   "metadata": {},
   "cell_type": "markdown",
   "source": "",
   "id": "9abf3396be2e739"
  },
  {
   "cell_type": "code",
   "id": "initial_id",
   "metadata": {
    "collapsed": true
   },
   "source": "import pandas as pd",
   "outputs": [],
   "execution_count": null
  },
  {
   "metadata": {},
   "cell_type": "markdown",
   "source": [
    "# Summary\n",
    "We can see that for both models the 4 songs performed best: 138.npz, 255.npz, 341.npz, 346.npz"
   ],
   "id": "530d316bd08f47a8"
  },
  {
   "metadata": {},
   "cell_type": "markdown",
   "source": "# 80 epochs\n",
   "id": "7ba9f9160c5b8683"
  },
  {
   "metadata": {},
   "cell_type": "code",
   "source": [
    "df = pd.read_csv('logs/80epochs/analyseParametersRandom80Epochs.csv')\n",
    "df1 = df[(df['acc_sound'] > 0.40) & (df['acc_delta'] > 0.40)]\n",
    "df1['filename']"
   ],
   "id": "e3c3d08d87eeb623",
   "outputs": [],
   "execution_count": null
  },
  {
   "metadata": {},
   "cell_type": "markdown",
   "source": "# 500 epochs",
   "id": "8714e5d4aa3f3c05"
  },
  {
   "metadata": {},
   "cell_type": "code",
   "source": [
    "df = pd.read_csv('logs/500epochs/analyseParametersRandom500Epochs.csv')\n",
    "df1 = df[(df['acc_sound'] > 0.40) & (df['acc_delta'] > 0.40)]\n",
    "df1['filename']"
   ],
   "id": "11d1f3296a4cc7cd",
   "outputs": [],
   "execution_count": null
  }
 ],
 "metadata": {
  "kernelspec": {
   "display_name": "Python 3",
   "language": "python",
   "name": "python3"
  },
  "language_info": {
   "codemirror_mode": {
    "name": "ipython",
    "version": 2
   },
   "file_extension": ".py",
   "mimetype": "text/x-python",
   "name": "python",
   "nbconvert_exporter": "python",
   "pygments_lexer": "ipython2",
   "version": "2.7.6"
  }
 },
 "nbformat": 4,
 "nbformat_minor": 5
}
