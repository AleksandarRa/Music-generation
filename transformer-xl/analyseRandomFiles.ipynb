{
 "cells": [
  {
   "metadata": {},
   "cell_type": "markdown",
   "source": "",
   "id": "9abf3396be2e739"
  },
  {
   "cell_type": "code",
   "id": "initial_id",
   "metadata": {
    "collapsed": true,
    "ExecuteTime": {
     "end_time": "2024-12-04T08:32:40.697711Z",
     "start_time": "2024-12-04T08:32:40.694416Z"
    }
   },
   "source": "import pandas as pd",
   "outputs": [],
   "execution_count": 18
  },
  {
   "metadata": {},
   "cell_type": "markdown",
   "source": [
    "# Summary\n",
    "+ We can see that for both models the 4 songs performed best: 138.npz, 255.npz, 341.npz, 346.npz\n",
    "+ Both models perform best on MAESTRO Dataset\n",
    "\n"
   ],
   "id": "530d316bd08f47a8"
  },
  {
   "metadata": {
    "ExecuteTime": {
     "end_time": "2024-12-04T08:32:40.748162Z",
     "start_time": "2024-12-04T08:32:40.743203Z"
    }
   },
   "cell_type": "code",
   "source": [
    "# Function to extract numeric part from the filename and categorize\n",
    "def categorize_filename(filename):\n",
    "    num = int(filename.replace('.npz', ''))  # Extract the numeric part\n",
    "    if 0 <= num <= 1275:\n",
    "        return 'MAESTRO'\n",
    "    elif 1276 <= num <= 1731:\n",
    "        return 'Standford'\n",
    "    elif 1732 <= num <= 1781:\n",
    "        return 'SMD'\n",
    "    elif 1782 <= num <= 8888:\n",
    "        return 'kaggle pk'\n",
    "    else:\n",
    "        return 'Unknown'  # Optional for values outside defined ranges\n"
   ],
   "id": "33c6051e8d7d6d87",
   "outputs": [],
   "execution_count": 19
  },
  {
   "metadata": {},
   "cell_type": "markdown",
   "source": "# 80 epochs\n",
   "id": "7ba9f9160c5b8683"
  },
  {
   "metadata": {
    "ExecuteTime": {
     "end_time": "2024-12-04T08:32:40.801539Z",
     "start_time": "2024-12-04T08:32:40.793150Z"
    }
   },
   "cell_type": "code",
   "source": [
    "df = pd.read_csv('logs/80epochs/analyseParametersRandom80Epochs.csv')\n",
    "df.shape"
   ],
   "id": "3515472c4f5e0dd3",
   "outputs": [
    {
     "data": {
      "text/plain": [
       "(86, 10)"
      ]
     },
     "execution_count": 20,
     "metadata": {},
     "output_type": "execute_result"
    }
   ],
   "execution_count": 20
  },
  {
   "metadata": {},
   "cell_type": "markdown",
   "source": "### Categorized",
   "id": "41aa379a69c82e8e"
  },
  {
   "metadata": {},
   "cell_type": "markdown",
   "source": "### Best Performed Songs",
   "id": "7aafdaa1a37bbec8"
  },
  {
   "metadata": {
    "ExecuteTime": {
     "end_time": "2024-12-04T08:32:41.051609Z",
     "start_time": "2024-12-04T08:32:41.045092Z"
    }
   },
   "cell_type": "code",
   "source": [
    "df1 = df[(df['acc_sound'] > 0.40) & (df['acc_delta'] > 0.40)]\n",
    "df1['filename']"
   ],
   "id": "e3c3d08d87eeb623",
   "outputs": [
    {
     "data": {
      "text/plain": [
       "21    138.npz\n",
       "48    341.npz\n",
       "62    255.npz\n",
       "77    346.npz\n",
       "Name: filename, dtype: object"
      ]
     },
     "execution_count": 22,
     "metadata": {},
     "output_type": "execute_result"
    }
   ],
   "execution_count": 22
  },
  {
   "metadata": {},
   "cell_type": "markdown",
   "source": "# 500 epochs",
   "id": "8714e5d4aa3f3c05"
  },
  {
   "metadata": {
    "ExecuteTime": {
     "end_time": "2024-12-04T08:32:41.122984Z",
     "start_time": "2024-12-04T08:32:41.118110Z"
    }
   },
   "cell_type": "code",
   "source": [
    "df = pd.read_csv('logs/500epochs/analyseParametersRandom500Epochs.csv')\n",
    "df.shape"
   ],
   "id": "357f871db1acb981",
   "outputs": [
    {
     "data": {
      "text/plain": [
       "(68, 10)"
      ]
     },
     "execution_count": 23,
     "metadata": {},
     "output_type": "execute_result"
    }
   ],
   "execution_count": 23
  },
  {
   "metadata": {},
   "cell_type": "markdown",
   "source": "### Categorized",
   "id": "c6fd963f2ff40e75"
  },
  {
   "metadata": {
    "ExecuteTime": {
     "end_time": "2024-12-04T08:32:41.181664Z",
     "start_time": "2024-12-04T08:32:41.171873Z"
    }
   },
   "cell_type": "code",
   "source": [
    "# Apply categorization to the filename column\n",
    "df['datasetName'] = df['filename'].apply(categorize_filename)\n",
    "print('Count of each dataset:')\n",
    "print(df['datasetName'].value_counts())\n",
    "print('Average accuracy of each dataset:')\n",
    "print(df.groupby('datasetName')[['acc_sound', 'acc_delta']].mean())"
   ],
   "id": "4d049d5f19fa4fa1",
   "outputs": [
    {
     "name": "stdout",
     "output_type": "stream",
     "text": [
      "Count of each dataset:\n",
      "datasetName\n",
      "kaggle pk    40\n",
      "MAESTRO      25\n",
      "Standford     3\n",
      "Name: count, dtype: int64\n",
      "Average accuracy of each dataset:\n",
      "             acc_sound  acc_delta\n",
      "datasetName                      \n",
      "MAESTRO       0.218800   0.215280\n",
      "Standford     0.014222   0.150222\n",
      "kaggle pk     0.024583   0.385917\n"
     ]
    }
   ],
   "execution_count": 24
  },
  {
   "metadata": {},
   "cell_type": "markdown",
   "source": "### Best Performed Songs",
   "id": "2e4ac24ed324d0b5"
  },
  {
   "metadata": {
    "ExecuteTime": {
     "end_time": "2024-12-04T08:32:41.227354Z",
     "start_time": "2024-12-04T08:32:41.222064Z"
    }
   },
   "cell_type": "code",
   "source": [
    "df1 = df[(df['acc_sound'] > 0.40) & (df['acc_delta'] > 0.40)]\n",
    "df1['filename']"
   ],
   "id": "11d1f3296a4cc7cd",
   "outputs": [
    {
     "data": {
      "text/plain": [
       "62    138.npz\n",
       "64    255.npz\n",
       "65    341.npz\n",
       "66    346.npz\n",
       "Name: filename, dtype: object"
      ]
     },
     "execution_count": 25,
     "metadata": {},
     "output_type": "execute_result"
    }
   ],
   "execution_count": 25
  }
 ],
 "metadata": {
  "kernelspec": {
   "display_name": "Python 3",
   "language": "python",
   "name": "python3"
  },
  "language_info": {
   "codemirror_mode": {
    "name": "ipython",
    "version": 2
   },
   "file_extension": ".py",
   "mimetype": "text/x-python",
   "name": "python",
   "nbconvert_exporter": "python",
   "pygments_lexer": "ipython2",
   "version": "2.7.6"
  }
 },
 "nbformat": 4,
 "nbformat_minor": 5
}
