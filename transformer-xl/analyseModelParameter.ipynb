{
 "cells": [
  {
   "cell_type": "code",
   "id": "initial_id",
   "metadata": {
    "collapsed": true
   },
   "source": [
    "import pandas as pd\n",
    "import numpy as np\n",
    "from matplotlib import cm\n",
    "from scipy.interpolate import griddata\n",
    "import seaborn as sns\n",
    "import matplotlib.pyplot as plt"
   ],
   "outputs": [],
   "execution_count": null
  },
  {
   "metadata": {},
   "cell_type": "code",
   "source": [
    "# Read the CSV file into a DataFrame\n",
    "df = pd.read_csv('logs/analyseParameters.csv')\n",
    "df.head()"
   ],
   "id": "7546fb5eadbdf17d",
   "outputs": [],
   "execution_count": null
  },
  {
   "metadata": {},
   "cell_type": "code",
   "source": [
    "\n",
    "# Setting up the plot style\n",
    "sns.set(style=\"whitegrid\")\n",
    "\n",
    "# Creating subplots for each feature against `acc_sound`\n",
    "fig, axs = plt.subplots(1, 3, figsize=(18, 6))  # 3 subplots in a row for `seq_len`, `gen_len`, `mem_len`\n",
    "\n",
    "# Plotting `acc_sound` changes with `seq_len` grouped by `temp`\n",
    "sns.lineplot(data=df, x='seq_len', y='acc_sound', hue='temp', marker='o', ax=axs[0], errorbar=None)\n",
    "axs[0].set_title(\"acc_sound vs seq_len by temp\")\n",
    "axs[0].set_xlabel(\"seq_len\")\n",
    "axs[0].set_ylabel(\"acc_sound\")\n",
    "\n",
    "# Plotting `acc_sound` changes with `gen_len` grouped by `temp`\n",
    "sns.lineplot(data=df, x='gen_len', y='acc_sound', hue='temp', marker='o', ax=axs[1], errorbar=None)\n",
    "axs[1].set_title(\"acc_sound vs gen_len by temp\")\n",
    "axs[1].set_xlabel(\"gen_len\")\n",
    "axs[1].set_ylabel(\"acc_sound\")\n",
    "\n",
    "# Plotting `acc_sound` changes with `mem_len` grouped by `temp`\n",
    "sns.lineplot(data=df, x='mem_len', y='acc_sound', hue='temp', marker='o', ax=axs[2], errorbar=None)\n",
    "axs[2].set_title(\"acc_sound vs mem_len by temp\")\n",
    "axs[2].set_xlabel(\"mem_len\")\n",
    "axs[2].set_ylabel(\"acc_sound\")\n",
    "\n",
    "# Adjusting layout for clarity\n",
    "plt.tight_layout()\n",
    "plt.legend(title=\"temp\", loc='upper right', bbox_to_anchor=(1.2, 1))\n",
    "plt.show()"
   ],
   "id": "ccd9be50038d10d8",
   "outputs": [],
   "execution_count": null
  },
  {
   "metadata": {},
   "cell_type": "code",
   "source": [
    "# Step 1: Group by 'gen_len' and 'mem_len' and calculate the mean of 'acc_sound' for unique pairs\n",
    "df_grouped = df.groupby(['gen_len', 'mem_len'], as_index=False)['acc_sound'].mean()\n",
    "\n",
    "# Step 2: Define a high-resolution grid for smoother interpolation\n",
    "gen_len_vals = np.linspace(df_grouped['gen_len'].min(), df_grouped['gen_len'].max(), 100)\n",
    "mem_len_vals = np.linspace(df_grouped['mem_len'].min(), df_grouped['mem_len'].max(), 100)\n",
    "X, Y = np.meshgrid(gen_len_vals, mem_len_vals)\n",
    "\n",
    "# Step 3: Interpolate acc_sound values onto the high-resolution grid\n",
    "Z = griddata(\n",
    "    (df_grouped['gen_len'], df_grouped['mem_len']),\n",
    "    df_grouped['acc_sound'],\n",
    "    (X, Y),\n",
    "    method='cubic'\n",
    ")\n",
    "\n",
    "# Step 4: Create a 3D plot\n",
    "fig = plt.figure(figsize=(10, 8))\n",
    "ax = fig.add_subplot(111, projection='3d')\n",
    "\n",
    "# Plotting the surface with smoother color transitions\n",
    "surf = ax.plot_surface(X, Y, Z, cmap=cm.viridis, edgecolor='none', rstride=1, cstride=1, antialiased=True)\n",
    "\n",
    "# Adding color bar for reference\n",
    "fig.colorbar(surf, ax=ax, shrink=0.5, aspect=5)\n",
    "\n",
    "# Setting labels\n",
    "ax.set_xlabel(\"gen_len\")\n",
    "ax.set_ylabel(\"mem_len\")\n",
    "ax.set_zlabel(\"acc_sound\")\n",
    "ax.set_title(\"3D Smooth Surface Plot of acc_sound vs gen_len and mem_len\")\n",
    "\n",
    "# Show plot\n",
    "plt.show()"
   ],
   "id": "143b42311462ea20",
   "outputs": [],
   "execution_count": null
  }
 ],
 "metadata": {
  "kernelspec": {
   "display_name": "Python 3",
   "language": "python",
   "name": "python3"
  },
  "language_info": {
   "codemirror_mode": {
    "name": "ipython",
    "version": 2
   },
   "file_extension": ".py",
   "mimetype": "text/x-python",
   "name": "python",
   "nbconvert_exporter": "python",
   "pygments_lexer": "ipython2",
   "version": "2.7.6"
  }
 },
 "nbformat": 4,
 "nbformat_minor": 5
}
