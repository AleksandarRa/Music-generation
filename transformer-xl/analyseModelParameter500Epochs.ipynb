{
 "cells": [
  {
   "cell_type": "code",
   "id": "initial_id",
   "metadata": {
    "collapsed": true
   },
   "source": [
    "import pandas as pd\n",
    "import numpy as np\n",
    "from matplotlib import cm\n",
    "from scipy.interpolate import griddata\n",
    "import seaborn as sns\n",
    "import matplotlib.pyplot as plt\n",
    "import plotly.graph_objs as go\n",
    "import plotly.express as px"
   ],
   "outputs": [],
   "execution_count": null
  },
  {
   "metadata": {},
   "cell_type": "code",
   "source": [
    "# Read the CSV file into a DataFrame\n",
    "df = pd.read_csv('logs/500epochs/analyseParameters500Epochs.csv')\n",
    "df.head()"
   ],
   "id": "7546fb5eadbdf17d",
   "outputs": [],
   "execution_count": null
  },
  {
   "metadata": {},
   "cell_type": "code",
   "source": [
    "def parallel_coordinates(df, y):\n",
    "    # Create a parallel coordinates plot\n",
    "    fig = px.parallel_coordinates(df, dimensions=['seq_len', 'gen_len', 'mem_len', y],\n",
    "                                  color=y, color_continuous_scale=px.colors.sequential.Viridis)\n",
    "    fig.show()\n",
    "    \n",
    "def moving_plot(df, y):\n",
    "    # Create 3D scatter plot\n",
    "    fig = go.Figure(data=[go.Scatter3d(\n",
    "        x=df['seq_len'],\n",
    "        y=df['gen_len'],\n",
    "        z=df['mem_len'],\n",
    "        mode='markers',\n",
    "        marker=dict(\n",
    "            size=5,\n",
    "            color=df[y],  # Color by `acc_sound`\n",
    "            colorscale='Viridis',\n",
    "            colorbar=dict(title=y)\n",
    "        )\n",
    "    )])\n",
    "    fig.update_layout(scene=dict(\n",
    "        xaxis_title='seq_len',\n",
    "        yaxis_title='gen_len',\n",
    "        zaxis_title='mem_len'),\n",
    "        title='3D Scatter Plot of ' + y)\n",
    "    fig.show()\n",
    "\n",
    "def color_plot(df, y):\n",
    "    fig, axes = plt.subplots(1, 3, figsize=(18, 5))\n",
    "\n",
    "    # Heatmap for seq_len vs. gen_len, aggregated over mem_len\n",
    "    pivot_seq_gen = df.groupby(['seq_len', 'gen_len'])[y].mean().unstack()\n",
    "    sns.heatmap(pivot_seq_gen, ax=axes[0], cmap=\"viridis\")\n",
    "    axes[0].set_title(y + ' by seq_len and gen_len')\n",
    "    axes[0].set_xlabel('gen_len')\n",
    "    axes[0].set_ylabel('seq_len')\n",
    "    axes[0].invert_yaxis()  # Start y-axis from lowest to highest\n",
    "\n",
    "    # Heatmap for seq_len vs. mem_len, aggregated over gen_len\n",
    "    pivot_seq_mem = df.groupby(['seq_len', 'mem_len'])[y].mean().unstack()\n",
    "    sns.heatmap(pivot_seq_mem, ax=axes[1], cmap=\"viridis\")\n",
    "    axes[1].set_title(y + ' by seq_len and mem_len')\n",
    "    axes[1].set_xlabel('mem_len')\n",
    "    axes[1].set_ylabel('seq_len')\n",
    "    axes[1].invert_yaxis()  # Start y-axis from lowest to highest\n",
    "\n",
    "    # Heatmap for gen_len vs. mem_len, aggregated over seq_len\n",
    "    pivot_gen_mem = df.groupby(['gen_len', 'mem_len'])[y].mean().unstack()\n",
    "    sns.heatmap(pivot_gen_mem, ax=axes[2], cmap=\"viridis\")\n",
    "    axes[2].set_title(y + ' by gen_len and mem_len')\n",
    "    axes[2].set_xlabel('mem_len')\n",
    "    axes[2].set_ylabel('gen_len')\n",
    "    axes[2].invert_yaxis()  # Start y-axis from lowest to highest\n",
    "\n",
    "    plt.tight_layout()\n",
    "    plt.show()"
   ],
   "id": "ff051a766936d14c",
   "outputs": [],
   "execution_count": null
  },
  {
   "metadata": {},
   "cell_type": "markdown",
   "source": [
    "# Best performed songs\n",
    "138.npz, 255.npz, 341.npz, 346.npz"
   ],
   "id": "3858b4b78d64fd77"
  },
  {
   "metadata": {},
   "cell_type": "markdown",
   "source": "## 138.npz",
   "id": "eb546bfc365c7de1"
  },
  {
   "metadata": {},
   "cell_type": "code",
   "source": [
    "\n",
    "_df138 = df[df['filename'] == '138.npz']\n",
    "parallel_coordinates(_df138, 'acc_sound')\n",
    "parallel_coordinates(_df138, 'acc_delta')\n",
    "#moving_plot(_df, 'acc_sound')\n",
    "#moving_plot(_df, 'acc_delta')\n",
    "#color_plot(_df, 'acc_sound')\n",
    "#color_plot(_df, 'acc_delta')\n"
   ],
   "id": "173255df51f17e2",
   "outputs": [],
   "execution_count": null
  },
  {
   "metadata": {},
   "cell_type": "markdown",
   "source": "## 255.npz",
   "id": "8d5725961b4c043"
  },
  {
   "metadata": {},
   "cell_type": "code",
   "source": [
    "\n",
    "_df255 = df[df['filename'] == '255.npz']\n",
    "parallel_coordinates(_df255, 'acc_sound')\n",
    "parallel_coordinates(_df255, 'acc_delta')\n",
    "#moving_plot(_df, 'acc_sound')\n",
    "#moving_plot(_df, 'acc_delta')\n",
    "#color_plot(_df, 'acc_sound')\n",
    "#color_plot(_df, 'acc_delta')\n"
   ],
   "id": "16a5631d396770aa",
   "outputs": [],
   "execution_count": null
  },
  {
   "metadata": {},
   "cell_type": "markdown",
   "source": "## 341.npz",
   "id": "3c0b62774da59557"
  },
  {
   "metadata": {},
   "cell_type": "code",
   "source": [
    "\n",
    "_df341= df[df['filename'] == '341.npz']\n",
    "parallel_coordinates(_df341, 'acc_sound')\n",
    "parallel_coordinates(_df341, 'acc_delta')\n",
    "#moving_plot(_df, 'acc_sound')\n",
    "#moving_plot(_df, 'acc_delta')\n",
    "#color_plot(_df, 'acc_sound')\n",
    "#color_plot(_df, 'acc_delta')\n"
   ],
   "id": "31f97651d8c8220e",
   "outputs": [],
   "execution_count": null
  },
  {
   "metadata": {},
   "cell_type": "markdown",
   "source": "## 346.npz",
   "id": "145e2e9987b5bf85"
  },
  {
   "metadata": {},
   "cell_type": "code",
   "source": [
    "\n",
    "_df346 = df[df['filename'] == '346.npz']\n",
    "parallel_coordinates(_df346, 'acc_sound')\n",
    "parallel_coordinates(_df346, 'acc_delta')\n",
    "#moving_plot(_df, 'acc_sound')\n",
    "#moving_plot(_df, 'acc_delta')\n",
    "#color_plot(_df, 'acc_sound')\n",
    "#color_plot(_df, 'acc_delta')\n"
   ],
   "id": "9f3fa18e6c99a422",
   "outputs": [],
   "execution_count": null
  },
  {
   "metadata": {},
   "cell_type": "markdown",
   "source": [
    "## Other evalauted songs\n",
    "11.npz, 774.npz, 187.npz"
   ],
   "id": "f4a0f9f82ce7f1bd"
  },
  {
   "metadata": {},
   "cell_type": "markdown",
   "source": "## 774.npz",
   "id": "acaa6d01e5599a95"
  },
  {
   "metadata": {},
   "cell_type": "code",
   "source": [
    "_df774 = df[df['filename'] == '774.npz']\n",
    "parallel_coordinates(_df774, 'acc_sound')\n",
    "parallel_coordinates(_df774, 'acc_delta')\n",
    "#moving_plot(_df, 'acc_sound')\n",
    "#moving_plot(_df, 'acc_delta')\n",
    "#color_plot(_df, 'acc_sound')\n",
    "#color_plot(_df, 'acc_delta')"
   ],
   "id": "88348b4277bd15f4",
   "outputs": [],
   "execution_count": null
  },
  {
   "metadata": {},
   "cell_type": "markdown",
   "source": "## 11.npz",
   "id": "75971aea1b12bd70"
  },
  {
   "metadata": {},
   "cell_type": "code",
   "source": [
    "_df11 = df[df['filename'] == '11.npz']\n",
    "parallel_coordinates(_df11, 'acc_sound')\n",
    "parallel_coordinates(_df11, 'acc_delta')\n",
    "#moving_plot(_df, 'acc_sound')\n",
    "#moving_plot(_df, 'acc_delta')\n",
    "#color_plot(_df, 'acc_sound')\n",
    "#color_plot(_df, 'acc_delta')\n"
   ],
   "id": "d11fb1f6d3bc32bd",
   "outputs": [],
   "execution_count": null
  },
  {
   "metadata": {},
   "cell_type": "markdown",
   "source": "## 187.npz",
   "id": "6577f7af05444c76"
  },
  {
   "metadata": {},
   "cell_type": "code",
   "source": [
    "_df187 = df[df['filename'] == '187.npz']\n",
    "parallel_coordinates(_df187, 'acc_sound')\n",
    "parallel_coordinates(_df187, 'acc_delta')\n",
    "#moving_plot(_df, 'acc_sound')\n",
    "#moving_plot(_df, 'acc_delta')\n",
    "#color_plot(_df, 'acc_sound')\n",
    "#color_plot(_df, 'acc_delta')\n"
   ],
   "id": "7788a60ac6189d91",
   "outputs": [],
   "execution_count": null
  }
 ],
 "metadata": {
  "kernelspec": {
   "display_name": "Python 3",
   "language": "python",
   "name": "python3"
  },
  "language_info": {
   "codemirror_mode": {
    "name": "ipython",
    "version": 2
   },
   "file_extension": ".py",
   "mimetype": "text/x-python",
   "name": "python",
   "nbconvert_exporter": "python",
   "pygments_lexer": "ipython2",
   "version": "2.7.6"
  }
 },
 "nbformat": 4,
 "nbformat_minor": 5
}
