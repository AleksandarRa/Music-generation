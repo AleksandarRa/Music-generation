{
 "cells": [
  {
   "cell_type": "code",
   "id": "initial_id",
   "metadata": {
    "collapsed": true
   },
   "source": [
    "import pandas as pd\n",
    "import matplotlib.pyplot as plt"
   ],
   "outputs": [],
   "execution_count": null
  },
  {
   "metadata": {},
   "cell_type": "code",
   "source": [
    "def plot(_df, x, y1, y2, filename1, filename2, approach):\n",
    "    # Create a figure with subplots\n",
    "    fig, axes = plt.subplots(1, 2, figsize=(14, 6), sharex=True, sharey=False)\n",
    "\n",
    "    # Plot Acc sound\n",
    "    for (filename, label), group in _df.groupby(['Filename 2', 'Label']):\n",
    "        axes[0].plot(group[x], group[y1], marker='o', label=label)\n",
    "    axes[0].set_title(f\"{filename1} - {filename2}: {y1}\")\n",
    "    axes[0].set_xlabel('Alpha')\n",
    "    axes[0].set_ylabel(y1)\n",
    "    axes[0].legend(title='Label')\n",
    "    axes[0].grid(True)\n",
    "\n",
    "    # Plot Acc delta\n",
    "    for (filename, label), group in _df.groupby(['Filename 2', 'Label']):\n",
    "        axes[1].plot(group[x], group[y2], marker='o', label=label)\n",
    "    axes[1].set_title(f\"{filename1} - {filename2}: {y2}\")\n",
    "    axes[1].set_xlabel('Alpha')\n",
    "    axes[1].set_ylabel(y2)\n",
    "    axes[1].legend(title='Label')\n",
    "    axes[1].grid(True)\n",
    "\n",
    "    # Adjust layout and show\n",
    "    plt.tight_layout()\n",
    "    #plt.savefig(f\"data/analysedData/{approach}approach/plotsMixTwoSongs/80epochsModel/{filename1}-{filename2}_80epochs.png\", bbox_inches='tight')  # Save the figure with tight bounding box\n",
    "    plt.show()\n",
    "\n"
   ],
   "id": "b3aa6d20885a4d78",
   "outputs": [],
   "execution_count": null
  },
  {
   "metadata": {},
   "cell_type": "markdown",
   "source": "# First approach",
   "id": "38f6e5a2e403d2a7"
  },
  {
   "metadata": {
    "ExecuteTime": {
     "end_time": "2024-12-11T15:30:21.369828Z",
     "start_time": "2024-12-11T15:30:21.347846Z"
    }
   },
   "cell_type": "code",
   "source": [
    "df_param = pd.read_csv('logs/80epochs/analyseParametersRandom80Epochs.csv')\n",
    "df_param = df_param[(df_param['filename'] == '0.npz') | (df_param['filename'] == '1280.npz') | (df_param['filename'] == '1733.npz') | (df_param['filename'] == '1787.npz')]\n"
   ],
   "id": "73d4056878a98513",
   "outputs": [],
   "execution_count": 116
  },
  {
   "metadata": {},
   "cell_type": "code",
   "source": [
    "df = pd.read_csv('logs/80epochs/interpolate_two_songs/1approach/interpolate_two_songs80epochs1.csv')\n",
    "df.shape"
   ],
   "id": "805f2d4cb0229c1b",
   "outputs": [],
   "execution_count": null
  },
  {
   "metadata": {},
   "cell_type": "markdown",
   "source": [
    "## 0.npz\n",
    "\n",
    "with 1280.npz, 1733.npz, 1787.npz"
   ],
   "id": "6c540328d32d4142"
  },
  {
   "metadata": {},
   "cell_type": "code",
   "source": [
    "filename1 = '0.npz'\n",
    "filenames2 = ['1280.npz', '1733.npz', '1787.npz']\n",
    "\n",
    "for filename2 in filenames2:\n",
    "    df1 = df[(df['Filename 1'] == filename1) & (df['Filename 2'] == filename2)]\n",
    "    plot(df1, 'Alpha', 'Acc sound', 'Acc delta', filename1, filename2, 1)\n"
   ],
   "id": "f79de30c6b288d66",
   "outputs": [],
   "execution_count": null
  },
  {
   "metadata": {},
   "cell_type": "markdown",
   "source": [
    "## 1280.npz\n",
    "\n",
    "with 1733.npz, 1787.npz\n"
   ],
   "id": "1104ab3de8e4ff89"
  },
  {
   "metadata": {},
   "cell_type": "code",
   "source": [
    "filename1 = '1280.npz'\n",
    "filenames2 = ['1733.npz', '1787.npz']\n",
    "for filename2 in filenames2:\n",
    "    df1 = df[(df['Filename 1'] == filename1) & (df['Filename 2'] == filename2)]\n",
    "    plot(df1, 'Alpha', 'Acc sound', 'Acc delta', filename1, filename2, 1)\n",
    "\n"
   ],
   "id": "cc8cf61d7405a920",
   "outputs": [],
   "execution_count": null
  },
  {
   "metadata": {},
   "cell_type": "markdown",
   "source": [
    "## 1733.npz\n",
    "\n",
    "with 1787.npz"
   ],
   "id": "9a172855d10fa493"
  },
  {
   "metadata": {},
   "cell_type": "code",
   "source": [
    "filename1 = '1733.npz'\n",
    "filenames2 = ['1787.npz']\n",
    "for filename2 in filenames2:\n",
    "    df1 = df[(df['Filename 1'] == filename1) & (df['Filename 2'] == filename2)]\n",
    "    plot(df1, 'Alpha', 'Acc sound', 'Acc delta', filename1, filename2, 1)"
   ],
   "id": "ffcdda713214203c",
   "outputs": [],
   "execution_count": null
  },
  {
   "metadata": {},
   "cell_type": "markdown",
   "source": "# Second Approach",
   "id": "3e8585ac4fb66cd6"
  },
  {
   "metadata": {
    "ExecuteTime": {
     "end_time": "2024-12-11T15:31:54.853844Z",
     "start_time": "2024-12-11T15:31:54.844990Z"
    }
   },
   "cell_type": "code",
   "source": [
    "df_param = pd.read_csv('logs/80epochs/analyseParametersRandom80Epochs.csv')\n",
    "df_param = df_param[(df_param['filename'] == '1200.npz') | (df_param['filename'] == '1735.npz') | (df_param['filename'] == '7033.npz') | (df_param['filename'] == '1700.npz')]\n",
    "df_param\n",
    "\n",
    "\n"
   ],
   "id": "c5aa3be8d32332f6",
   "outputs": [],
   "execution_count": 120
  },
  {
   "metadata": {},
   "cell_type": "markdown",
   "source": [
    "## 1200.npz\n",
    "with 1735.npz, 7033.npz, 1700.npz"
   ],
   "id": "57f5ae47fb6451c4"
  },
  {
   "metadata": {},
   "cell_type": "code",
   "source": [
    "df = pd.read_csv('logs/80epochs/interpolate_two_songs/2approach/interpolate_two_songs80epochs2.csv')\n",
    "df.shape\n"
   ],
   "id": "5bd02b85d7df50e9",
   "outputs": [],
   "execution_count": null
  },
  {
   "metadata": {},
   "cell_type": "code",
   "source": [
    "filename1 = '1200.npz'\n",
    "filenames2 = ['1735.npz', '7033.npz', '1700.npz' ]\n",
    "for filename2 in filenames2:\n",
    "    df1 = df[(df['Filename 1'] == filename1) & (df['Filename 2'] == filename2)]\n",
    "    plot(df1, 'Alpha', 'Acc sound', 'Acc delta', filename1, filename2, 2)"
   ],
   "id": "e55c475fb2c99561",
   "outputs": [],
   "execution_count": null
  },
  {
   "metadata": {},
   "cell_type": "markdown",
   "source": [
    "## 1735.npz\n",
    "with 7033.npz, 1700.npz"
   ],
   "id": "96d17b5531e7c264"
  },
  {
   "metadata": {},
   "cell_type": "code",
   "source": [
    "filename1 = '1735.npz'\n",
    "filenames2 = ['7033.npz', '1700.npz']\n",
    "for filename2 in filenames2:\n",
    "    df1 = df[(df['Filename 1'] == filename1) & (df['Filename 2'] == filename2)]\n",
    "    plot(df1, 'Alpha', 'Acc sound', 'Acc delta', filename1, filename2, 2)"
   ],
   "id": "4f2ea01bd11c12b9",
   "outputs": [],
   "execution_count": null
  },
  {
   "metadata": {},
   "cell_type": "markdown",
   "source": [
    "## 1700.npz\n",
    "with 7033.npz"
   ],
   "id": "2480f3749816d0da"
  },
  {
   "metadata": {},
   "cell_type": "code",
   "source": [
    "filename1 = '1700.npz'\n",
    "filenames2 = ['7033.npz']\n",
    "for filename2 in filenames2:\n",
    "    df1 = df[(df['Filename 1'] == filename1) & (df['Filename 2'] == filename2)]\n",
    "    plot(df1, 'Alpha', 'Acc sound', 'Acc delta', filename1, filename2, 2)"
   ],
   "id": "d3b79f5622145330",
   "outputs": [],
   "execution_count": null
  },
  {
   "metadata": {},
   "cell_type": "markdown",
   "source": "# Third Approach",
   "id": "766655b4f680f070"
  },
  {
   "metadata": {
    "ExecuteTime": {
     "end_time": "2024-12-11T15:32:08.429544Z",
     "start_time": "2024-12-11T15:32:08.419583Z"
    }
   },
   "cell_type": "code",
   "source": [
    "df_param = pd.read_csv('logs/80epochs/analyseParametersRandom80Epochs.csv')\n",
    "df_param = df_param[(df_param['filename'] == '0.npz') | (df_param['filename'] == '138.npz') | (df_param['filename'] == '341.npz') | (df_param['filename'] == '255.npz')]\n",
    "df_param\n",
    "\n",
    "\n"
   ],
   "id": "52bda9657afc137c",
   "outputs": [],
   "execution_count": 121
  },
  {
   "metadata": {},
   "cell_type": "code",
   "source": [
    "\n",
    "df = pd.read_csv('logs/80epochs/interpolate_two_songs/3approach/interpolate_two_songs80epochs3.csv')\n",
    "df.shape\n"
   ],
   "id": "df24be58ec0f15f8",
   "outputs": [],
   "execution_count": null
  },
  {
   "metadata": {},
   "cell_type": "markdown",
   "source": [
    "## 0.npz\n",
    "with 138.npz, 341.npz, 255.npz"
   ],
   "id": "36a951c732739289"
  },
  {
   "metadata": {},
   "cell_type": "code",
   "source": [
    "filename1 = '0.npz'\n",
    "filenames2 = ['138.npz', '341.npz', '255.npz']\n",
    "\n",
    "for filename2 in filenames2:\n",
    "    df1 = df[(df['Filename 1'] == filename1) & (df['Filename 2'] == filename2)]\n",
    "    plot(df1, 'Alpha', 'Acc sound', 'Acc delta', filename1, filename2, 3)"
   ],
   "id": "c2ed450ae2f824b8",
   "outputs": [],
   "execution_count": null
  },
  {
   "metadata": {},
   "cell_type": "markdown",
   "source": [
    "## 138.npz\n",
    "with 341.npz, 255.npz"
   ],
   "id": "748632eecee854d7"
  },
  {
   "metadata": {},
   "cell_type": "code",
   "source": [
    "filename1 = '138.npz'\n",
    "filenames2 = ['341.npz', '255.npz']\n",
    "\n",
    "for filename2 in filenames2:\n",
    "    df1 = df[(df['Filename 1'] == filename1) & (df['Filename 2'] == filename2)]\n",
    "    plot(df1, 'Alpha', 'Acc sound', 'Acc delta', filename1, filename2, 3)"
   ],
   "id": "8ee175ad447d3a2f",
   "outputs": [],
   "execution_count": null
  },
  {
   "metadata": {},
   "cell_type": "markdown",
   "source": [
    "## 341.npz\n",
    "with 255.npz"
   ],
   "id": "7ed433d2eeb2956b"
  },
  {
   "metadata": {},
   "cell_type": "code",
   "source": [
    "filename1 = '341.npz'\n",
    "filenames2 = ['255.npz']\n",
    "\n",
    "for filename2 in filenames2:\n",
    "    df1 = df[(df['Filename 1'] == filename1) & (df['Filename 2'] == filename2)]\n",
    "    plot(df1, 'Alpha', 'Acc sound', 'Acc delta', filename1, filename2, 3)"
   ],
   "id": "c704d1f86a9f187e",
   "outputs": [],
   "execution_count": null
  }
 ],
 "metadata": {
  "kernelspec": {
   "display_name": "Python 3",
   "language": "python",
   "name": "python3"
  },
  "language_info": {
   "codemirror_mode": {
    "name": "ipython",
    "version": 2
   },
   "file_extension": ".py",
   "mimetype": "text/x-python",
   "name": "python",
   "nbconvert_exporter": "python",
   "pygments_lexer": "ipython2",
   "version": "2.7.6"
  }
 },
 "nbformat": 4,
 "nbformat_minor": 5
}
