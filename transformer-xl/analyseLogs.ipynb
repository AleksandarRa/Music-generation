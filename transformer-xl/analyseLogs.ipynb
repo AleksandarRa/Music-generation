{
 "cells": [
  {
   "cell_type": "code",
   "id": "initial_id",
   "metadata": {
    "collapsed": true
   },
   "source": [
    "import pandas as pd\n",
    "import matplotlib.pyplot as plt"
   ],
   "outputs": [],
   "execution_count": null
  },
  {
   "metadata": {},
   "cell_type": "code",
   "source": [
    "# Read the CSV file into a DataFrame\n",
    "df = pd.read_csv('logs/evaluateModel.csv')\n",
    "\n",
    "# Display the first few rows of the DataFrame\n",
    "df.head()"
   ],
   "id": "8ed92b4572a7b1eb",
   "outputs": [],
   "execution_count": null
  },
  {
   "metadata": {},
   "cell_type": "code",
   "source": [
    "input1 = df[df['range'] == '0 - 1517']\n",
    "input2 = df[df['range'] == '3034 - 4551']"
   ],
   "id": "31e6ece666b65ca4",
   "outputs": [],
   "execution_count": null
  },
  {
   "metadata": {},
   "cell_type": "code",
   "source": [
    "result = pd.DataFrame({\n",
    "    'epochs trained': input1['epochs trained'].values,\n",
    "    'alpha': input1['alpha'].values,\n",
    "    'diff': input2['loss'].values / input1['loss'].values\n",
    "})\n",
    "result"
   ],
   "id": "696782a5b394fc6c",
   "outputs": [],
   "execution_count": null
  },
  {
   "metadata": {},
   "cell_type": "code",
   "source": [
    "# Generate a line plot grouped by 'epochs trained'\n",
    "fig, ax = plt.subplots(figsize=(10, 6))\n",
    "\n",
    "fig.patch.set_facecolor('white')\n",
    "ax.set_facecolor('white')\n",
    "\n",
    "# Group by 'epochs trained' and plot each group as a line\n",
    "for epoch in result['epochs trained'].unique():\n",
    "    epoch_group = result[result['epochs trained'] == epoch]\n",
    "    plt.plot(epoch_group['alpha'], epoch_group['diff'], label=f'Epoch {epoch}')\n",
    "\n",
    "# Add labels and a title\n",
    "plt.xlabel('Alpha')\n",
    "plt.ylabel('loss2 / loss1')\n",
    "plt.title('')\n",
    "plt.legend(title='Epochs Trained')\n",
    "plt.grid(True)\n",
    "\n",
    "# Show the plot\n",
    "plt.show()"
   ],
   "id": "ca8825a9403c1ad6",
   "outputs": [],
   "execution_count": null
  },
  {
   "metadata": {},
   "cell_type": "markdown",
   "source": "",
   "id": "50673aff234ecb59"
  }
 ],
 "metadata": {
  "kernelspec": {
   "display_name": "Python 3",
   "language": "python",
   "name": "python3"
  },
  "language_info": {
   "codemirror_mode": {
    "name": "ipython",
    "version": 2
   },
   "file_extension": ".py",
   "mimetype": "text/x-python",
   "name": "python",
   "nbconvert_exporter": "python",
   "pygments_lexer": "ipython2",
   "version": "2.7.6"
  }
 },
 "nbformat": 4,
 "nbformat_minor": 5
}
