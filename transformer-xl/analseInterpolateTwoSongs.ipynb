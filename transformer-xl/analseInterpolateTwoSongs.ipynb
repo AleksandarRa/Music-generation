{
 "cells": [
  {
   "cell_type": "code",
   "id": "initial_id",
   "metadata": {
    "collapsed": true
   },
   "source": [
    "import pandas as pd\n",
    "import matplotlib.pyplot as plt"
   ],
   "outputs": [],
   "execution_count": null
  },
  {
   "metadata": {},
   "cell_type": "code",
   "source": [
    "df = pd.read_csv('logs/interpolate_two_songs.csv')\n",
    "df.shape"
   ],
   "id": "468f272ad03a6db1",
   "outputs": [],
   "execution_count": null
  },
  {
   "metadata": {},
   "cell_type": "code",
   "source": [
    "def plot(_df, x, y1, y2, filename1, filename2):\n",
    "    # Create a figure with subplots\n",
    "    fig, axes = plt.subplots(1, 2, figsize=(14, 6), sharex=True, sharey=False)\n",
    "\n",
    "    # Plot Acc sound\n",
    "    for (filename, label), group in _df.groupby(['Filename 2', 'Label']):\n",
    "        axes[0].plot(group[x], group[y1], marker='o', label=f'{filename} - {label}')\n",
    "    axes[0].set_title(f\"{filename1} - {filename2}: {y1}\")\n",
    "    axes[0].set_xlabel('Alpha')\n",
    "    axes[0].set_ylabel(y1)\n",
    "    axes[0].legend(title='Mixing')\n",
    "    axes[0].grid(True)\n",
    "\n",
    "    # Plot Acc delta\n",
    "    for (filename, label), group in _df.groupby(['Filename 2', 'Label']):\n",
    "        axes[1].plot(group[x], group[y2], marker='o', label=f'{filename} - {label}')\n",
    "    axes[1].set_title(f\"{filename1} - {filename2}: {y2}\")\n",
    "    axes[1].set_xlabel('Alpha')\n",
    "    axes[1].set_ylabel(y2)\n",
    "    axes[1].legend(title='Mixing')\n",
    "    axes[1].grid(True)\n",
    "\n",
    "    # Adjust layout and show\n",
    "    plt.tight_layout()\n",
    "    plt.show()"
   ],
   "id": "b3aa6d20885a4d78",
   "outputs": [],
   "execution_count": null
  },
  {
   "metadata": {},
   "cell_type": "markdown",
   "source": [
    "# 0.npz\n",
    "\n",
    "with 1280.npz, 1733.npz, 1787.npz"
   ],
   "id": "6c540328d32d4142"
  },
  {
   "metadata": {},
   "cell_type": "code",
   "source": [
    "filename1 = '0.npz'\n",
    "filenames2 = ['1280.npz', '1733.npz', '1787.npz']\n",
    "\n",
    "for filename2 in filenames2:\n",
    "    df1 = df[(df['Filename 1'] == filename1) & (df['Filename 2'] == filename2)]\n",
    "    plot(df1, 'Alpha', 'Acc sound', 'Acc delta', filename1, filename2)\n"
   ],
   "id": "f79de30c6b288d66",
   "outputs": [],
   "execution_count": null
  },
  {
   "metadata": {},
   "cell_type": "markdown",
   "source": [
    "# 1280.npz\n",
    "\n",
    "with 1733.npz, 1787.npz\n"
   ],
   "id": "1104ab3de8e4ff89"
  },
  {
   "metadata": {},
   "cell_type": "code",
   "source": [
    "filename1 = '1280.npz'\n",
    "filenames2 = ['1733.npz', '1787.npz']\n",
    "for filename2 in filenames2:\n",
    "    df1 = df[(df['Filename 1'] == filename1) & (df['Filename 2'] == filename2)]\n",
    "    plot(df1, 'Alpha', 'Acc sound', 'Acc delta', filename1, filename2)\n",
    "\n"
   ],
   "id": "cc8cf61d7405a920",
   "outputs": [],
   "execution_count": null
  },
  {
   "metadata": {},
   "cell_type": "markdown",
   "source": [
    "# 1733.npz\n",
    "\n",
    "with 1787.npz"
   ],
   "id": "9a172855d10fa493"
  },
  {
   "metadata": {},
   "cell_type": "code",
   "source": [
    "filename1 = '1733.npz'\n",
    "filenames2 = ['1787.npz']\n",
    "for filename2 in filenames2:\n",
    "    df1 = df[(df['Filename 1'] == filename1) & (df['Filename 2'] == filename2)]\n",
    "    plot(df1, 'Alpha', 'Acc sound', 'Acc delta', filename1, filename2)"
   ],
   "id": "ffcdda713214203c",
   "outputs": [],
   "execution_count": null
  },
  {
   "metadata": {},
   "cell_type": "markdown",
   "source": [
    "# 1200.npz\n",
    "with 1735.npz, 7033.npz, 1700.npz"
   ],
   "id": "57f5ae47fb6451c4"
  },
  {
   "metadata": {},
   "cell_type": "code",
   "source": [
    "filename1 = '1200.npz'\n",
    "filenames2 = ['1735.npz', '7033.npz', '1700.npz' ]\n",
    "for filename2 in filenames2:\n",
    "    df1 = df[(df['Filename 1'] == filename1) & (df['Filename 2'] == filename2)]\n",
    "    plot(df1, 'Alpha', 'Acc sound', 'Acc delta', filename1, filename2)"
   ],
   "id": "e55c475fb2c99561",
   "outputs": [],
   "execution_count": null
  },
  {
   "metadata": {},
   "cell_type": "markdown",
   "source": [
    "# 1735.npz\n",
    "with 7033.npz, 1700.npz"
   ],
   "id": "96d17b5531e7c264"
  },
  {
   "metadata": {},
   "cell_type": "code",
   "source": [
    "filename1 = '1735.npz'\n",
    "filenames2 = ['7033.npz', '1700.npz']\n",
    "for filename2 in filenames2:\n",
    "    df1 = df[(df['Filename 1'] == filename1) & (df['Filename 2'] == filename2)]\n",
    "    plot(df1, 'Alpha', 'Acc sound', 'Acc delta', filename1, filename2)"
   ],
   "id": "4f2ea01bd11c12b9",
   "outputs": [],
   "execution_count": null
  },
  {
   "metadata": {},
   "cell_type": "markdown",
   "source": [
    "# 7033.npz\n",
    "with 1700.npz"
   ],
   "id": "2480f3749816d0da"
  },
  {
   "metadata": {},
   "cell_type": "code",
   "source": [
    "filename1 = '7033.npz'\n",
    "filenames2 = ['1700.npz']\n",
    "for filename2 in filenames2:\n",
    "    df1 = df[(df['Filename 1'] == filename1) & (df['Filename 2'] == filename2)]\n",
    "    plot(df1, 'Alpha', 'Acc sound', 'Acc delta', filename1, filename2)"
   ],
   "id": "d3b79f5622145330",
   "outputs": [],
   "execution_count": null
  },
  {
   "metadata": {},
   "cell_type": "markdown",
   "source": "",
   "id": "63ed02c17251d872"
  }
 ],
 "metadata": {
  "kernelspec": {
   "display_name": "Python 3",
   "language": "python",
   "name": "python3"
  },
  "language_info": {
   "codemirror_mode": {
    "name": "ipython",
    "version": 2
   },
   "file_extension": ".py",
   "mimetype": "text/x-python",
   "name": "python",
   "nbconvert_exporter": "python",
   "pygments_lexer": "ipython2",
   "version": "2.7.6"
  }
 },
 "nbformat": 4,
 "nbformat_minor": 5
}
