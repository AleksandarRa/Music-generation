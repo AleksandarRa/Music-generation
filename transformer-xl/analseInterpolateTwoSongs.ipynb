{
 "cells": [
  {
   "cell_type": "code",
   "id": "initial_id",
   "metadata": {
    "collapsed": true
   },
   "source": [
    "import pandas as pd\n",
    "import matplotlib.pyplot as plt"
   ],
   "outputs": [],
   "execution_count": null
  },
  {
   "metadata": {},
   "cell_type": "code",
   "source": [
    "df = pd.read_csv('logs/80epochs/interpolate_two_songs80Epochs.csv')\n",
    "df.shape"
   ],
   "id": "468f272ad03a6db1",
   "outputs": [],
   "execution_count": null
  },
  {
   "metadata": {},
   "cell_type": "code",
   "source": [
    "def plot(_df, x, y1, y2, filename1, filename2):\n",
    "    # Create a figure with subplots\n",
    "    fig, axes = plt.subplots(1, 2, figsize=(14, 6), sharex=True, sharey=False)\n",
    "\n",
    "    # Plot Acc sound\n",
    "    for (filename, label), group in _df.groupby(['Filename 2', 'Label']):\n",
    "        axes[0].plot(group[x], group[y1], marker='o', label=label)\n",
    "    axes[0].set_title(f\"{filename1} - {filename2}: {y1}\")\n",
    "    axes[0].set_xlabel('Alpha')\n",
    "    axes[0].set_ylabel(y1)\n",
    "    axes[0].legend(title='Label')\n",
    "    axes[0].grid(True)\n",
    "\n",
    "    # Plot Acc delta\n",
    "    for (filename, label), group in _df.groupby(['Filename 2', 'Label']):\n",
    "        axes[1].plot(group[x], group[y2], marker='o', label=label)\n",
    "    axes[1].set_title(f\"{filename1} - {filename2}: {y2}\")\n",
    "    axes[1].set_xlabel('Alpha')\n",
    "    axes[1].set_ylabel(y2)\n",
    "    axes[1].legend(title='Label')\n",
    "    axes[1].grid(True)\n",
    "\n",
    "    # Adjust layout and show\n",
    "    plt.tight_layout()\n",
    "    plt.show()"
   ],
   "id": "b3aa6d20885a4d78",
   "outputs": [],
   "execution_count": null
  },
  {
   "metadata": {},
   "cell_type": "markdown",
   "source": "# First approach",
   "id": "38f6e5a2e403d2a7"
  },
  {
   "metadata": {},
   "cell_type": "markdown",
   "source": [
    "## 0.npz\n",
    "\n",
    "with 1280.npz, 1733.npz, 1787.npz"
   ],
   "id": "6c540328d32d4142"
  },
  {
   "metadata": {},
   "cell_type": "code",
   "source": [
    "filename1 = '0.npz'\n",
    "filenames2 = ['1280.npz', '1733.npz', '1787.npz']\n",
    "\n",
    "for filename2 in filenames2:\n",
    "    df1 = df[(df['Filename 1'] == filename1) & (df['Filename 2'] == filename2)]\n",
    "    plot(df1, 'Alpha', 'Acc sound', 'Acc delta', filename1, filename2)\n"
   ],
   "id": "f79de30c6b288d66",
   "outputs": [],
   "execution_count": null
  },
  {
   "metadata": {},
   "cell_type": "markdown",
   "source": [
    "## 1280.npz\n",
    "\n",
    "with 1733.npz, 1787.npz\n"
   ],
   "id": "1104ab3de8e4ff89"
  },
  {
   "metadata": {},
   "cell_type": "code",
   "source": [
    "filename1 = '1280.npz'\n",
    "filenames2 = ['1733.npz', '1787.npz']\n",
    "for filename2 in filenames2:\n",
    "    df1 = df[(df['Filename 1'] == filename1) & (df['Filename 2'] == filename2)]\n",
    "    plot(df1, 'Alpha', 'Acc sound', 'Acc delta', filename1, filename2)\n",
    "\n"
   ],
   "id": "cc8cf61d7405a920",
   "outputs": [],
   "execution_count": null
  },
  {
   "metadata": {},
   "cell_type": "markdown",
   "source": [
    "## 1733.npz\n",
    "\n",
    "with 1787.npz"
   ],
   "id": "9a172855d10fa493"
  },
  {
   "metadata": {},
   "cell_type": "code",
   "source": [
    "filename1 = '1733.npz'\n",
    "filenames2 = ['1787.npz']\n",
    "for filename2 in filenames2:\n",
    "    df1 = df[(df['Filename 1'] == filename1) & (df['Filename 2'] == filename2)]\n",
    "    plot(df1, 'Alpha', 'Acc sound', 'Acc delta', filename1, filename2)"
   ],
   "id": "ffcdda713214203c",
   "outputs": [],
   "execution_count": null
  },
  {
   "metadata": {},
   "cell_type": "markdown",
   "source": "# Second Approach",
   "id": "3e8585ac4fb66cd6"
  },
  {
   "metadata": {},
   "cell_type": "markdown",
   "source": [
    "## 1200.npz\n",
    "with 1735.npz, 7033.npz, 1700.npz"
   ],
   "id": "57f5ae47fb6451c4"
  },
  {
   "metadata": {},
   "cell_type": "code",
   "source": [
    "filename1 = '1200.npz'\n",
    "filenames2 = ['1735.npz', '7033.npz', '1700.npz' ]\n",
    "for filename2 in filenames2:\n",
    "    df1 = df[(df['Filename 1'] == filename1) & (df['Filename 2'] == filename2)]\n",
    "    plot(df1, 'Alpha', 'Acc sound', 'Acc delta', filename1, filename2)"
   ],
   "id": "e55c475fb2c99561",
   "outputs": [],
   "execution_count": null
  },
  {
   "metadata": {},
   "cell_type": "markdown",
   "source": [
    "## 1735.npz\n",
    "with 7033.npz, 1700.npz"
   ],
   "id": "96d17b5531e7c264"
  },
  {
   "metadata": {},
   "cell_type": "code",
   "source": [
    "filename1 = '1735.npz'\n",
    "filenames2 = ['7033.npz', '1700.npz']\n",
    "for filename2 in filenames2:\n",
    "    df1 = df[(df['Filename 1'] == filename1) & (df['Filename 2'] == filename2)]\n",
    "    plot(df1, 'Alpha', 'Acc sound', 'Acc delta', filename1, filename2)"
   ],
   "id": "4f2ea01bd11c12b9",
   "outputs": [],
   "execution_count": null
  },
  {
   "metadata": {},
   "cell_type": "markdown",
   "source": [
    "## 7033.npz\n",
    "with 1700.npz"
   ],
   "id": "2480f3749816d0da"
  },
  {
   "metadata": {},
   "cell_type": "code",
   "source": [
    "filename1 = '7033.npz'\n",
    "filenames2 = ['1700.npz']\n",
    "for filename2 in filenames2:\n",
    "    df1 = df[(df['Filename 1'] == filename1) & (df['Filename 2'] == filename2)]\n",
    "    plot(df1, 'Alpha', 'Acc sound', 'Acc delta', filename1, filename2)"
   ],
   "id": "d3b79f5622145330",
   "outputs": [],
   "execution_count": null
  },
  {
   "metadata": {},
   "cell_type": "markdown",
   "source": "# Third Approach",
   "id": "766655b4f680f070"
  },
  {
   "metadata": {},
   "cell_type": "markdown",
   "source": [
    "## 0.npz\n",
    "with 138.npz, 341.npz, 255.npz"
   ],
   "id": "36a951c732739289"
  },
  {
   "metadata": {},
   "cell_type": "code",
   "source": [
    "filename1 = '0.npz'\n",
    "filenames2 = ['138.npz', '341.npz', '255.npz']\n",
    "\n",
    "for filename2 in filenames2:\n",
    "    df1 = df[(df['Filename 1'] == filename1) & (df['Filename 2'] == filename2)]\n",
    "    plot(df1, 'Alpha', 'Acc sound', 'Acc delta', filename1, filename2)"
   ],
   "id": "c2ed450ae2f824b8",
   "outputs": [],
   "execution_count": null
  },
  {
   "metadata": {},
   "cell_type": "markdown",
   "source": [
    "## 138.npz\n",
    "with 341.npz, 255.npz"
   ],
   "id": "748632eecee854d7"
  },
  {
   "metadata": {},
   "cell_type": "code",
   "source": [
    "filename1 = '138.npz'\n",
    "filenames2 = ['341.npz', '255.npz']\n",
    "\n",
    "for filename2 in filenames2:\n",
    "    df1 = df[(df['Filename 1'] == filename1) & (df['Filename 2'] == filename2)]\n",
    "    plot(df1, 'Alpha', 'Acc sound', 'Acc delta', filename1, filename2)"
   ],
   "id": "8ee175ad447d3a2f",
   "outputs": [],
   "execution_count": null
  },
  {
   "metadata": {},
   "cell_type": "markdown",
   "source": [
    "## 341.npz\n",
    "with 255.npz"
   ],
   "id": "7ed433d2eeb2956b"
  },
  {
   "metadata": {},
   "cell_type": "code",
   "source": [
    "filename1 = '341.npz'\n",
    "filenames2 = ['255.npz']\n",
    "\n",
    "for filename2 in filenames2:\n",
    "    df1 = df[(df['Filename 1'] == filename1) & (df['Filename 2'] == filename2)]\n",
    "    plot(df1, 'Alpha', 'Acc sound', 'Acc delta', filename1, filename2)"
   ],
   "id": "c704d1f86a9f187e",
   "outputs": [],
   "execution_count": null
  }
 ],
 "metadata": {
  "kernelspec": {
   "display_name": "Python 3",
   "language": "python",
   "name": "python3"
  },
  "language_info": {
   "codemirror_mode": {
    "name": "ipython",
    "version": 2
   },
   "file_extension": ".py",
   "mimetype": "text/x-python",
   "name": "python",
   "nbconvert_exporter": "python",
   "pygments_lexer": "ipython2",
   "version": "2.7.6"
  }
 },
 "nbformat": 4,
 "nbformat_minor": 5
}
