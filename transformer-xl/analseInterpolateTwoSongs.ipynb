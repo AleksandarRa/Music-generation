{
 "cells": [
  {
   "cell_type": "code",
   "id": "initial_id",
   "metadata": {
    "collapsed": true
   },
   "source": [
    "import pandas as pd\n",
    "import matplotlib.pyplot as plt"
   ],
   "outputs": [],
   "execution_count": null
  },
  {
   "metadata": {},
   "cell_type": "code",
   "source": [
    "df = pd.read_csv('logs/interpolate_two_songs.csv')\n",
    "df.head()"
   ],
   "id": "468f272ad03a6db1",
   "outputs": [],
   "execution_count": null
  },
  {
   "metadata": {},
   "cell_type": "code",
   "source": [
    "def plot(_df, x , y, filename1, filename2):\n",
    "    # Grouping by 'Label' and plotting\n",
    "    plt.figure(figsize=(10, 6))\n",
    "    for (filename, label), group in _df.groupby(['Filename 2', 'Label']):\n",
    "        plt.plot(group[x], group[y], marker='o', label=f'{filename} - {label}')\n",
    "\n",
    "    # Plot customization\n",
    "    plt.title(filename1 + ' - ' + filename2)\n",
    "    plt.xlabel('Alpha')\n",
    "    plt.ylabel('Acc Sound')\n",
    "    plt.legend(title='Label')\n",
    "    plt.grid(True)\n",
    "\n",
    "    # Show the plot\n",
    "    plt.show()\n"
   ],
   "id": "cb5b9b0671a16de5",
   "outputs": [],
   "execution_count": null
  },
  {
   "metadata": {},
   "cell_type": "markdown",
   "source": "# 0.npz",
   "id": "6c540328d32d4142"
  },
  {
   "metadata": {},
   "cell_type": "code",
   "source": [
    "filename1 = '0.npz'\n",
    "filenames2 = ['1280.npz', '1733.npz', '1787.npz']\n",
    "for filename2 in filenames2:\n",
    "    df1 = df[(df['Filename 1'] == filename1) & (df['Filename 2'] == filename2)]\n",
    "    plot(df1, 'Alpha', 'Acc sound', filename1, filename2)"
   ],
   "id": "f79de30c6b288d66",
   "outputs": [],
   "execution_count": null
  },
  {
   "metadata": {},
   "cell_type": "markdown",
   "source": "# 1280.npz",
   "id": "1104ab3de8e4ff89"
  },
  {
   "metadata": {},
   "cell_type": "code",
   "source": [
    "filename1 = '1280.npz'\n",
    "filenames2 = ['1733.npz', '1787.npz']\n",
    "for filename2 in filenames2:\n",
    "    df1 = df[(df['Filename 1'] == filename1) & (df['Filename 2'] == filename2)]\n",
    "    plot(df1, 'Alpha', 'Acc sound', filename1, filename2)\n"
   ],
   "id": "cc8cf61d7405a920",
   "outputs": [],
   "execution_count": null
  },
  {
   "metadata": {},
   "cell_type": "markdown",
   "source": "# 1733.npz",
   "id": "9a172855d10fa493"
  },
  {
   "metadata": {},
   "cell_type": "code",
   "source": [
    "filename1 = '1733.npz'\n",
    "filenames2 = ['1787.npz']\n",
    "for filename2 in filenames2:\n",
    "    df1 = df[(df['Filename 1'] == filename1) & (df['Filename 2'] == filename2)]\n",
    "    plot(df1, 'Alpha', 'Acc sound', filename1, filename2)\n"
   ],
   "id": "ffcdda713214203c",
   "outputs": [],
   "execution_count": null
  }
 ],
 "metadata": {
  "kernelspec": {
   "display_name": "Python 3",
   "language": "python",
   "name": "python3"
  },
  "language_info": {
   "codemirror_mode": {
    "name": "ipython",
    "version": 2
   },
   "file_extension": ".py",
   "mimetype": "text/x-python",
   "name": "python",
   "nbconvert_exporter": "python",
   "pygments_lexer": "ipython2",
   "version": "2.7.6"
  }
 },
 "nbformat": 4,
 "nbformat_minor": 5
}
